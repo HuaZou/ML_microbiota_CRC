{
 "cells": [
  {
   "cell_type": "markdown",
   "metadata": {
    "nbpresent": {
     "id": "f9774957-e9a8-4e5d-a3a2-11d58c98f4f3"
    },
    "slideshow": {
     "slide_type": "slide"
    }
   },
   "source": [
    "# Machine Learning on gut microbiota of patients with Colorectal cancer (2): Data clean\n",
    "\n",
    "Using Predictive Analysis To Predict healthy control or CRC patients on gut microbiota data\n",
    "\n",
    "\n",
    "## Identify the problem\n",
    "\n",
    "Colorectal cancer (CRC), also known as bowel cancer, colon cancer, or rectal cancer, is the development of cancer from the colon or rectum (parts of the large intestine). Signs and symptoms may include blood in the stool, a change in bowel movements, weight loss, and fatigue. Gut microbiota play crutial role in CRC progression. Here, to investigate whether the gut microbiota could predict healthy control or CRC patients.\n",
    "\n",
    "## Expected outcome\n",
    "\n",
    "Since this build a model that can classify healthy control or CRC patients using two training classification:\n",
    "* CRC = Patients - Present\n",
    "* healthy = Control - Absent\n",
    "\n",
    "## Objective\n",
    "\n",
    "Since the labels in the data are discrete, the predication falls into two categories, (i.e. CRC or healthy). In machine learning this is a classification problem. \n",
    "        \n",
    "> *Thus, the goal is to classify healthy control or CRC patients. To achieve this we have used machine learning classification methods to fit a function that can predict the discrete class of new input.*\n",
    "\n",
    "## Identify data sources\n",
    "\n",
    "The datasets contains two files:\n",
    "* **metadata**: The 1st and 2nd columns in the dataset store the unique ID numbers of the samples and disease (CRC=Patients, healthy=Control), respectively. \n",
    "* **profile**: The gut microbial species level profile. \n",
    "\n",
    "## Loading libraries and set options "
   ]
  },
  {
   "cell_type": "code",
   "execution_count": 1,
   "metadata": {
    "nbpresent": {
     "id": "e7a5c9bd-eaa8-4f5e-9e19-18ceea5e11af"
    },
    "slideshow": {
     "slide_type": "subslide"
    }
   },
   "outputs": [],
   "source": [
    "import numpy as np        \n",
    "import pandas as pd"
   ]
  },
  {
   "cell_type": "markdown",
   "metadata": {
    "nbpresent": {
     "id": "818004ce-3b93-48be-9fb8-9bacb0f07f33"
    }
   },
   "source": [
    "## Importing Dataset\n",
    "\n",
    "First, load the TSV and CSV file using read_table or read_csv function of Pandas, respectively"
   ]
  },
  {
   "cell_type": "code",
   "execution_count": 2,
   "metadata": {},
   "outputs": [],
   "source": [
    "metadata = pd.read_csv(\"./dataset/metadata.csv\", index_col=0)\n",
    "profile = pd.read_table(\"./dataset/species.tsv\", sep=\"\\t\")"
   ]
  },
  {
   "cell_type": "markdown",
   "metadata": {
    "nbpresent": {
     "id": "b6af97c7-30d4-4fc6-b9d5-a213f70788c2"
    }
   },
   "source": [
    "## Inspecting the data\n",
    "The first step is to visually inspect datasets."
   ]
  },
  {
   "cell_type": "code",
   "execution_count": 3,
   "metadata": {
    "nbpresent": {
     "id": "3411a17b-52dd-4b3d-8ec4-22e6ea79a516"
    }
   },
   "outputs": [
    {
     "data": {
      "text/html": [
       "<div>\n",
       "<style scoped>\n",
       "    .dataframe tbody tr th:only-of-type {\n",
       "        vertical-align: middle;\n",
       "    }\n",
       "\n",
       "    .dataframe tbody tr th {\n",
       "        vertical-align: top;\n",
       "    }\n",
       "\n",
       "    .dataframe thead th {\n",
       "        text-align: right;\n",
       "    }\n",
       "</style>\n",
       "<table border=\"1\" class=\"dataframe\">\n",
       "  <thead>\n",
       "    <tr style=\"text-align: right;\">\n",
       "      <th></th>\n",
       "      <th>disease</th>\n",
       "    </tr>\n",
       "    <tr>\n",
       "      <th>SampleID</th>\n",
       "      <th></th>\n",
       "    </tr>\n",
       "  </thead>\n",
       "  <tbody>\n",
       "    <tr>\n",
       "      <th>SAMD00114718</th>\n",
       "      <td>healthy</td>\n",
       "    </tr>\n",
       "    <tr>\n",
       "      <th>SAMD00114719</th>\n",
       "      <td>healthy</td>\n",
       "    </tr>\n",
       "    <tr>\n",
       "      <th>SAMD00114720</th>\n",
       "      <td>healthy</td>\n",
       "    </tr>\n",
       "    <tr>\n",
       "      <th>SAMD00114721</th>\n",
       "      <td>healthy</td>\n",
       "    </tr>\n",
       "    <tr>\n",
       "      <th>SAMD00114722</th>\n",
       "      <td>CRC</td>\n",
       "    </tr>\n",
       "  </tbody>\n",
       "</table>\n",
       "</div>"
      ],
      "text/plain": [
       "              disease\n",
       "SampleID             \n",
       "SAMD00114718  healthy\n",
       "SAMD00114719  healthy\n",
       "SAMD00114720  healthy\n",
       "SAMD00114721  healthy\n",
       "SAMD00114722      CRC"
      ]
     },
     "execution_count": 3,
     "metadata": {},
     "output_type": "execute_result"
    }
   ],
   "source": [
    "metadata.head()"
   ]
  },
  {
   "cell_type": "code",
   "execution_count": 4,
   "metadata": {},
   "outputs": [
    {
     "data": {
      "text/html": [
       "<div>\n",
       "<style scoped>\n",
       "    .dataframe tbody tr th:only-of-type {\n",
       "        vertical-align: middle;\n",
       "    }\n",
       "\n",
       "    .dataframe tbody tr th {\n",
       "        vertical-align: top;\n",
       "    }\n",
       "\n",
       "    .dataframe thead th {\n",
       "        text-align: right;\n",
       "    }\n",
       "</style>\n",
       "<table border=\"1\" class=\"dataframe\">\n",
       "  <thead>\n",
       "    <tr style=\"text-align: right;\">\n",
       "      <th></th>\n",
       "      <th>TaxaID</th>\n",
       "      <th>SAMD00114718</th>\n",
       "      <th>SAMD00114719</th>\n",
       "      <th>SAMD00114720</th>\n",
       "      <th>SAMD00114721</th>\n",
       "      <th>SAMD00114722</th>\n",
       "      <th>SAMD00114723</th>\n",
       "      <th>SAMD00114724</th>\n",
       "      <th>SAMD00114726</th>\n",
       "      <th>SAMD00114727</th>\n",
       "      <th>...</th>\n",
       "      <th>SAMD00165024</th>\n",
       "      <th>SAMD00165025</th>\n",
       "      <th>SAMD00165026</th>\n",
       "      <th>SAMD00165027</th>\n",
       "      <th>SAMD00165028</th>\n",
       "      <th>SAMD00165029</th>\n",
       "      <th>SAMD00165030</th>\n",
       "      <th>SAMD00165031</th>\n",
       "      <th>SAMD00165032</th>\n",
       "      <th>SAMD00165033</th>\n",
       "    </tr>\n",
       "  </thead>\n",
       "  <tbody>\n",
       "    <tr>\n",
       "      <th>0</th>\n",
       "      <td>s__Bacteroides_plebeius</td>\n",
       "      <td>46509517</td>\n",
       "      <td>5334509</td>\n",
       "      <td>6868169</td>\n",
       "      <td>1029678</td>\n",
       "      <td>7520</td>\n",
       "      <td>105</td>\n",
       "      <td>3515</td>\n",
       "      <td>3047974</td>\n",
       "      <td>90986</td>\n",
       "      <td>...</td>\n",
       "      <td>0</td>\n",
       "      <td>0</td>\n",
       "      <td>3902772</td>\n",
       "      <td>0</td>\n",
       "      <td>0</td>\n",
       "      <td>0</td>\n",
       "      <td>6311760</td>\n",
       "      <td>0</td>\n",
       "      <td>2286204</td>\n",
       "      <td>0</td>\n",
       "    </tr>\n",
       "    <tr>\n",
       "      <th>1</th>\n",
       "      <td>s__Bacteroides_dorei</td>\n",
       "      <td>8249892</td>\n",
       "      <td>230275</td>\n",
       "      <td>4054008</td>\n",
       "      <td>2029259</td>\n",
       "      <td>2318235</td>\n",
       "      <td>0</td>\n",
       "      <td>10920493</td>\n",
       "      <td>1777</td>\n",
       "      <td>4043706</td>\n",
       "      <td>...</td>\n",
       "      <td>0</td>\n",
       "      <td>138343</td>\n",
       "      <td>3005330</td>\n",
       "      <td>0</td>\n",
       "      <td>0</td>\n",
       "      <td>5136959</td>\n",
       "      <td>18113</td>\n",
       "      <td>0</td>\n",
       "      <td>242316</td>\n",
       "      <td>0</td>\n",
       "    </tr>\n",
       "    <tr>\n",
       "      <th>2</th>\n",
       "      <td>s__Faecalibacterium_prausnitzii</td>\n",
       "      <td>3696318</td>\n",
       "      <td>2053756</td>\n",
       "      <td>3267707</td>\n",
       "      <td>661965</td>\n",
       "      <td>350665</td>\n",
       "      <td>393585</td>\n",
       "      <td>536323</td>\n",
       "      <td>648125</td>\n",
       "      <td>1246731</td>\n",
       "      <td>...</td>\n",
       "      <td>0</td>\n",
       "      <td>2868791</td>\n",
       "      <td>1755420</td>\n",
       "      <td>5699714</td>\n",
       "      <td>0</td>\n",
       "      <td>1948287</td>\n",
       "      <td>0</td>\n",
       "      <td>152752</td>\n",
       "      <td>2584817</td>\n",
       "      <td>0</td>\n",
       "    </tr>\n",
       "    <tr>\n",
       "      <th>3</th>\n",
       "      <td>s__Eubacterium_eligens</td>\n",
       "      <td>3265545</td>\n",
       "      <td>182914</td>\n",
       "      <td>0</td>\n",
       "      <td>114447</td>\n",
       "      <td>546829</td>\n",
       "      <td>0</td>\n",
       "      <td>0</td>\n",
       "      <td>10419</td>\n",
       "      <td>895911</td>\n",
       "      <td>...</td>\n",
       "      <td>0</td>\n",
       "      <td>1370340</td>\n",
       "      <td>0</td>\n",
       "      <td>0</td>\n",
       "      <td>0</td>\n",
       "      <td>400810</td>\n",
       "      <td>578608</td>\n",
       "      <td>0</td>\n",
       "      <td>2600731</td>\n",
       "      <td>0</td>\n",
       "    </tr>\n",
       "    <tr>\n",
       "      <th>4</th>\n",
       "      <td>s__Bacteroides_ovatus</td>\n",
       "      <td>2871853</td>\n",
       "      <td>289955</td>\n",
       "      <td>1097263</td>\n",
       "      <td>110111</td>\n",
       "      <td>564558</td>\n",
       "      <td>580</td>\n",
       "      <td>51366</td>\n",
       "      <td>26697</td>\n",
       "      <td>0</td>\n",
       "      <td>...</td>\n",
       "      <td>1491036</td>\n",
       "      <td>443860</td>\n",
       "      <td>56055</td>\n",
       "      <td>2543082</td>\n",
       "      <td>0</td>\n",
       "      <td>279863</td>\n",
       "      <td>19714</td>\n",
       "      <td>361361</td>\n",
       "      <td>0</td>\n",
       "      <td>0</td>\n",
       "    </tr>\n",
       "  </tbody>\n",
       "</table>\n",
       "<p>5 rows × 505 columns</p>\n",
       "</div>"
      ],
      "text/plain": [
       "                            TaxaID  SAMD00114718  SAMD00114719  SAMD00114720  \\\n",
       "0          s__Bacteroides_plebeius      46509517       5334509       6868169   \n",
       "1             s__Bacteroides_dorei       8249892        230275       4054008   \n",
       "2  s__Faecalibacterium_prausnitzii       3696318       2053756       3267707   \n",
       "3           s__Eubacterium_eligens       3265545        182914             0   \n",
       "4            s__Bacteroides_ovatus       2871853        289955       1097263   \n",
       "\n",
       "   SAMD00114721  SAMD00114722  SAMD00114723  SAMD00114724  SAMD00114726  \\\n",
       "0       1029678          7520           105          3515       3047974   \n",
       "1       2029259       2318235             0      10920493          1777   \n",
       "2        661965        350665        393585        536323        648125   \n",
       "3        114447        546829             0             0         10419   \n",
       "4        110111        564558           580         51366         26697   \n",
       "\n",
       "   SAMD00114727  ...  SAMD00165024  SAMD00165025  SAMD00165026  SAMD00165027  \\\n",
       "0         90986  ...             0             0       3902772             0   \n",
       "1       4043706  ...             0        138343       3005330             0   \n",
       "2       1246731  ...             0       2868791       1755420       5699714   \n",
       "3        895911  ...             0       1370340             0             0   \n",
       "4             0  ...       1491036        443860         56055       2543082   \n",
       "\n",
       "   SAMD00165028  SAMD00165029  SAMD00165030  SAMD00165031  SAMD00165032  \\\n",
       "0             0             0       6311760             0       2286204   \n",
       "1             0       5136959         18113             0        242316   \n",
       "2             0       1948287             0        152752       2584817   \n",
       "3             0        400810        578608             0       2600731   \n",
       "4             0        279863         19714        361361             0   \n",
       "\n",
       "   SAMD00165033  \n",
       "0             0  \n",
       "1             0  \n",
       "2             0  \n",
       "3             0  \n",
       "4             0  \n",
       "\n",
       "[5 rows x 505 columns]"
      ]
     },
     "execution_count": 4,
     "metadata": {},
     "output_type": "execute_result"
    }
   ],
   "source": [
    "profile.head()"
   ]
  },
  {
   "cell_type": "markdown",
   "metadata": {},
   "source": [
    "## Choosing only healthy or CRC samples\n",
    "\n",
    "Selecting healthy or CRC samples to further data analysis\n",
    "* filtering disease on metadata dataset"
   ]
  },
  {
   "cell_type": "code",
   "execution_count": 8,
   "metadata": {},
   "outputs": [
    {
     "data": {
      "text/html": [
       "<div>\n",
       "<style scoped>\n",
       "    .dataframe tbody tr th:only-of-type {\n",
       "        vertical-align: middle;\n",
       "    }\n",
       "\n",
       "    .dataframe tbody tr th {\n",
       "        vertical-align: top;\n",
       "    }\n",
       "\n",
       "    .dataframe thead th {\n",
       "        text-align: right;\n",
       "    }\n",
       "</style>\n",
       "<table border=\"1\" class=\"dataframe\">\n",
       "  <thead>\n",
       "    <tr style=\"text-align: right;\">\n",
       "      <th></th>\n",
       "      <th>disease</th>\n",
       "    </tr>\n",
       "    <tr>\n",
       "      <th>SampleID</th>\n",
       "      <th></th>\n",
       "    </tr>\n",
       "  </thead>\n",
       "  <tbody>\n",
       "    <tr>\n",
       "      <th>SAMD00114718</th>\n",
       "      <td>healthy</td>\n",
       "    </tr>\n",
       "    <tr>\n",
       "      <th>SAMD00114719</th>\n",
       "      <td>healthy</td>\n",
       "    </tr>\n",
       "    <tr>\n",
       "      <th>SAMD00114720</th>\n",
       "      <td>healthy</td>\n",
       "    </tr>\n",
       "    <tr>\n",
       "      <th>SAMD00114721</th>\n",
       "      <td>healthy</td>\n",
       "    </tr>\n",
       "    <tr>\n",
       "      <th>SAMD00114722</th>\n",
       "      <td>CRC</td>\n",
       "    </tr>\n",
       "    <tr>\n",
       "      <th>...</th>\n",
       "      <td>...</td>\n",
       "    </tr>\n",
       "    <tr>\n",
       "      <th>SAMD00165029</th>\n",
       "      <td>healthy</td>\n",
       "    </tr>\n",
       "    <tr>\n",
       "      <th>SAMD00165030</th>\n",
       "      <td>healthy</td>\n",
       "    </tr>\n",
       "    <tr>\n",
       "      <th>SAMD00165031</th>\n",
       "      <td>healthy</td>\n",
       "    </tr>\n",
       "    <tr>\n",
       "      <th>SAMD00165032</th>\n",
       "      <td>healthy</td>\n",
       "    </tr>\n",
       "    <tr>\n",
       "      <th>SAMD00165033</th>\n",
       "      <td>healthy</td>\n",
       "    </tr>\n",
       "  </tbody>\n",
       "</table>\n",
       "<p>504 rows × 1 columns</p>\n",
       "</div>"
      ],
      "text/plain": [
       "              disease\n",
       "SampleID             \n",
       "SAMD00114718  healthy\n",
       "SAMD00114719  healthy\n",
       "SAMD00114720  healthy\n",
       "SAMD00114721  healthy\n",
       "SAMD00114722      CRC\n",
       "...               ...\n",
       "SAMD00165029  healthy\n",
       "SAMD00165030  healthy\n",
       "SAMD00165031  healthy\n",
       "SAMD00165032  healthy\n",
       "SAMD00165033  healthy\n",
       "\n",
       "[504 rows x 1 columns]"
      ]
     },
     "execution_count": 8,
     "metadata": {},
     "output_type": "execute_result"
    }
   ],
   "source": [
    "phen = metadata.loc[(metadata['disease'] == 'healthy') | (metadata['disease'] == 'CRC')]\n",
    "\n",
    "phen"
   ]
  },
  {
   "cell_type": "markdown",
   "metadata": {},
   "source": [
    "* filtering the species with low occurrrence"
   ]
  },
  {
   "cell_type": "code",
   "execution_count": 9,
   "metadata": {},
   "outputs": [
    {
     "data": {
      "text/html": [
       "<div>\n",
       "<style scoped>\n",
       "    .dataframe tbody tr th:only-of-type {\n",
       "        vertical-align: middle;\n",
       "    }\n",
       "\n",
       "    .dataframe tbody tr th {\n",
       "        vertical-align: top;\n",
       "    }\n",
       "\n",
       "    .dataframe thead th {\n",
       "        text-align: right;\n",
       "    }\n",
       "</style>\n",
       "<table border=\"1\" class=\"dataframe\">\n",
       "  <thead>\n",
       "    <tr style=\"text-align: right;\">\n",
       "      <th></th>\n",
       "      <th>SAMD00114718</th>\n",
       "      <th>SAMD00114719</th>\n",
       "      <th>SAMD00114720</th>\n",
       "      <th>SAMD00114721</th>\n",
       "      <th>SAMD00114722</th>\n",
       "      <th>SAMD00114723</th>\n",
       "      <th>SAMD00114724</th>\n",
       "      <th>SAMD00114726</th>\n",
       "      <th>SAMD00114727</th>\n",
       "      <th>SAMD00114728</th>\n",
       "      <th>...</th>\n",
       "      <th>SAMD00165024</th>\n",
       "      <th>SAMD00165025</th>\n",
       "      <th>SAMD00165026</th>\n",
       "      <th>SAMD00165027</th>\n",
       "      <th>SAMD00165028</th>\n",
       "      <th>SAMD00165029</th>\n",
       "      <th>SAMD00165030</th>\n",
       "      <th>SAMD00165031</th>\n",
       "      <th>SAMD00165032</th>\n",
       "      <th>SAMD00165033</th>\n",
       "    </tr>\n",
       "    <tr>\n",
       "      <th>TaxaID</th>\n",
       "      <th></th>\n",
       "      <th></th>\n",
       "      <th></th>\n",
       "      <th></th>\n",
       "      <th></th>\n",
       "      <th></th>\n",
       "      <th></th>\n",
       "      <th></th>\n",
       "      <th></th>\n",
       "      <th></th>\n",
       "      <th></th>\n",
       "      <th></th>\n",
       "      <th></th>\n",
       "      <th></th>\n",
       "      <th></th>\n",
       "      <th></th>\n",
       "      <th></th>\n",
       "      <th></th>\n",
       "      <th></th>\n",
       "      <th></th>\n",
       "      <th></th>\n",
       "    </tr>\n",
       "  </thead>\n",
       "  <tbody>\n",
       "    <tr>\n",
       "      <th>s__Bacteroides_plebeius</th>\n",
       "      <td>46509517</td>\n",
       "      <td>5334509</td>\n",
       "      <td>6868169</td>\n",
       "      <td>1029678</td>\n",
       "      <td>7520</td>\n",
       "      <td>105</td>\n",
       "      <td>3515</td>\n",
       "      <td>3047974</td>\n",
       "      <td>90986</td>\n",
       "      <td>0</td>\n",
       "      <td>...</td>\n",
       "      <td>0</td>\n",
       "      <td>0</td>\n",
       "      <td>3902772</td>\n",
       "      <td>0</td>\n",
       "      <td>0</td>\n",
       "      <td>0</td>\n",
       "      <td>6311760</td>\n",
       "      <td>0</td>\n",
       "      <td>2286204</td>\n",
       "      <td>0</td>\n",
       "    </tr>\n",
       "    <tr>\n",
       "      <th>s__Bacteroides_dorei</th>\n",
       "      <td>8249892</td>\n",
       "      <td>230275</td>\n",
       "      <td>4054008</td>\n",
       "      <td>2029259</td>\n",
       "      <td>2318235</td>\n",
       "      <td>0</td>\n",
       "      <td>10920493</td>\n",
       "      <td>1777</td>\n",
       "      <td>4043706</td>\n",
       "      <td>1072863</td>\n",
       "      <td>...</td>\n",
       "      <td>0</td>\n",
       "      <td>138343</td>\n",
       "      <td>3005330</td>\n",
       "      <td>0</td>\n",
       "      <td>0</td>\n",
       "      <td>5136959</td>\n",
       "      <td>18113</td>\n",
       "      <td>0</td>\n",
       "      <td>242316</td>\n",
       "      <td>0</td>\n",
       "    </tr>\n",
       "    <tr>\n",
       "      <th>s__Faecalibacterium_prausnitzii</th>\n",
       "      <td>3696318</td>\n",
       "      <td>2053756</td>\n",
       "      <td>3267707</td>\n",
       "      <td>661965</td>\n",
       "      <td>350665</td>\n",
       "      <td>393585</td>\n",
       "      <td>536323</td>\n",
       "      <td>648125</td>\n",
       "      <td>1246731</td>\n",
       "      <td>2339359</td>\n",
       "      <td>...</td>\n",
       "      <td>0</td>\n",
       "      <td>2868791</td>\n",
       "      <td>1755420</td>\n",
       "      <td>5699714</td>\n",
       "      <td>0</td>\n",
       "      <td>1948287</td>\n",
       "      <td>0</td>\n",
       "      <td>152752</td>\n",
       "      <td>2584817</td>\n",
       "      <td>0</td>\n",
       "    </tr>\n",
       "    <tr>\n",
       "      <th>s__Eubacterium_eligens</th>\n",
       "      <td>3265545</td>\n",
       "      <td>182914</td>\n",
       "      <td>0</td>\n",
       "      <td>114447</td>\n",
       "      <td>546829</td>\n",
       "      <td>0</td>\n",
       "      <td>0</td>\n",
       "      <td>10419</td>\n",
       "      <td>895911</td>\n",
       "      <td>0</td>\n",
       "      <td>...</td>\n",
       "      <td>0</td>\n",
       "      <td>1370340</td>\n",
       "      <td>0</td>\n",
       "      <td>0</td>\n",
       "      <td>0</td>\n",
       "      <td>400810</td>\n",
       "      <td>578608</td>\n",
       "      <td>0</td>\n",
       "      <td>2600731</td>\n",
       "      <td>0</td>\n",
       "    </tr>\n",
       "    <tr>\n",
       "      <th>s__Bacteroides_ovatus</th>\n",
       "      <td>2871853</td>\n",
       "      <td>289955</td>\n",
       "      <td>1097263</td>\n",
       "      <td>110111</td>\n",
       "      <td>564558</td>\n",
       "      <td>580</td>\n",
       "      <td>51366</td>\n",
       "      <td>26697</td>\n",
       "      <td>0</td>\n",
       "      <td>249687</td>\n",
       "      <td>...</td>\n",
       "      <td>1491036</td>\n",
       "      <td>443860</td>\n",
       "      <td>56055</td>\n",
       "      <td>2543082</td>\n",
       "      <td>0</td>\n",
       "      <td>279863</td>\n",
       "      <td>19714</td>\n",
       "      <td>361361</td>\n",
       "      <td>0</td>\n",
       "      <td>0</td>\n",
       "    </tr>\n",
       "    <tr>\n",
       "      <th>...</th>\n",
       "      <td>...</td>\n",
       "      <td>...</td>\n",
       "      <td>...</td>\n",
       "      <td>...</td>\n",
       "      <td>...</td>\n",
       "      <td>...</td>\n",
       "      <td>...</td>\n",
       "      <td>...</td>\n",
       "      <td>...</td>\n",
       "      <td>...</td>\n",
       "      <td>...</td>\n",
       "      <td>...</td>\n",
       "      <td>...</td>\n",
       "      <td>...</td>\n",
       "      <td>...</td>\n",
       "      <td>...</td>\n",
       "      <td>...</td>\n",
       "      <td>...</td>\n",
       "      <td>...</td>\n",
       "      <td>...</td>\n",
       "      <td>...</td>\n",
       "    </tr>\n",
       "    <tr>\n",
       "      <th>s__Klebsiella_pneumoniae</th>\n",
       "      <td>0</td>\n",
       "      <td>0</td>\n",
       "      <td>0</td>\n",
       "      <td>0</td>\n",
       "      <td>0</td>\n",
       "      <td>0</td>\n",
       "      <td>0</td>\n",
       "      <td>1544397</td>\n",
       "      <td>0</td>\n",
       "      <td>0</td>\n",
       "      <td>...</td>\n",
       "      <td>0</td>\n",
       "      <td>0</td>\n",
       "      <td>19537</td>\n",
       "      <td>0</td>\n",
       "      <td>0</td>\n",
       "      <td>0</td>\n",
       "      <td>0</td>\n",
       "      <td>0</td>\n",
       "      <td>0</td>\n",
       "      <td>0</td>\n",
       "    </tr>\n",
       "    <tr>\n",
       "      <th>s__Bacteroides_coprocola</th>\n",
       "      <td>0</td>\n",
       "      <td>0</td>\n",
       "      <td>0</td>\n",
       "      <td>0</td>\n",
       "      <td>0</td>\n",
       "      <td>0</td>\n",
       "      <td>0</td>\n",
       "      <td>1029096</td>\n",
       "      <td>0</td>\n",
       "      <td>0</td>\n",
       "      <td>...</td>\n",
       "      <td>0</td>\n",
       "      <td>0</td>\n",
       "      <td>0</td>\n",
       "      <td>0</td>\n",
       "      <td>0</td>\n",
       "      <td>5218937</td>\n",
       "      <td>0</td>\n",
       "      <td>0</td>\n",
       "      <td>0</td>\n",
       "      <td>0</td>\n",
       "    </tr>\n",
       "    <tr>\n",
       "      <th>s__Ruminococcus_lactaris</th>\n",
       "      <td>0</td>\n",
       "      <td>0</td>\n",
       "      <td>0</td>\n",
       "      <td>0</td>\n",
       "      <td>0</td>\n",
       "      <td>0</td>\n",
       "      <td>0</td>\n",
       "      <td>0</td>\n",
       "      <td>0</td>\n",
       "      <td>2800532</td>\n",
       "      <td>...</td>\n",
       "      <td>113761</td>\n",
       "      <td>0</td>\n",
       "      <td>0</td>\n",
       "      <td>0</td>\n",
       "      <td>0</td>\n",
       "      <td>761927</td>\n",
       "      <td>0</td>\n",
       "      <td>0</td>\n",
       "      <td>630160</td>\n",
       "      <td>0</td>\n",
       "    </tr>\n",
       "    <tr>\n",
       "      <th>s__Turicimonas_muris</th>\n",
       "      <td>0</td>\n",
       "      <td>0</td>\n",
       "      <td>0</td>\n",
       "      <td>0</td>\n",
       "      <td>0</td>\n",
       "      <td>0</td>\n",
       "      <td>0</td>\n",
       "      <td>0</td>\n",
       "      <td>0</td>\n",
       "      <td>1530</td>\n",
       "      <td>...</td>\n",
       "      <td>0</td>\n",
       "      <td>0</td>\n",
       "      <td>357</td>\n",
       "      <td>9347</td>\n",
       "      <td>0</td>\n",
       "      <td>1368</td>\n",
       "      <td>0</td>\n",
       "      <td>0</td>\n",
       "      <td>653</td>\n",
       "      <td>0</td>\n",
       "    </tr>\n",
       "    <tr>\n",
       "      <th>s__Proteobacteria_bacterium_CAG_139</th>\n",
       "      <td>0</td>\n",
       "      <td>0</td>\n",
       "      <td>0</td>\n",
       "      <td>0</td>\n",
       "      <td>0</td>\n",
       "      <td>0</td>\n",
       "      <td>0</td>\n",
       "      <td>0</td>\n",
       "      <td>0</td>\n",
       "      <td>1383</td>\n",
       "      <td>...</td>\n",
       "      <td>0</td>\n",
       "      <td>0</td>\n",
       "      <td>16130</td>\n",
       "      <td>15854</td>\n",
       "      <td>0</td>\n",
       "      <td>15683</td>\n",
       "      <td>0</td>\n",
       "      <td>0</td>\n",
       "      <td>191409</td>\n",
       "      <td>0</td>\n",
       "    </tr>\n",
       "  </tbody>\n",
       "</table>\n",
       "<p>151 rows × 504 columns</p>\n",
       "</div>"
      ],
      "text/plain": [
       "                                     SAMD00114718  SAMD00114719  SAMD00114720  \\\n",
       "TaxaID                                                                          \n",
       "s__Bacteroides_plebeius                  46509517       5334509       6868169   \n",
       "s__Bacteroides_dorei                      8249892        230275       4054008   \n",
       "s__Faecalibacterium_prausnitzii           3696318       2053756       3267707   \n",
       "s__Eubacterium_eligens                    3265545        182914             0   \n",
       "s__Bacteroides_ovatus                     2871853        289955       1097263   \n",
       "...                                           ...           ...           ...   \n",
       "s__Klebsiella_pneumoniae                        0             0             0   \n",
       "s__Bacteroides_coprocola                        0             0             0   \n",
       "s__Ruminococcus_lactaris                        0             0             0   \n",
       "s__Turicimonas_muris                            0             0             0   \n",
       "s__Proteobacteria_bacterium_CAG_139             0             0             0   \n",
       "\n",
       "                                     SAMD00114721  SAMD00114722  SAMD00114723  \\\n",
       "TaxaID                                                                          \n",
       "s__Bacteroides_plebeius                   1029678          7520           105   \n",
       "s__Bacteroides_dorei                      2029259       2318235             0   \n",
       "s__Faecalibacterium_prausnitzii            661965        350665        393585   \n",
       "s__Eubacterium_eligens                     114447        546829             0   \n",
       "s__Bacteroides_ovatus                      110111        564558           580   \n",
       "...                                           ...           ...           ...   \n",
       "s__Klebsiella_pneumoniae                        0             0             0   \n",
       "s__Bacteroides_coprocola                        0             0             0   \n",
       "s__Ruminococcus_lactaris                        0             0             0   \n",
       "s__Turicimonas_muris                            0             0             0   \n",
       "s__Proteobacteria_bacterium_CAG_139             0             0             0   \n",
       "\n",
       "                                     SAMD00114724  SAMD00114726  SAMD00114727  \\\n",
       "TaxaID                                                                          \n",
       "s__Bacteroides_plebeius                      3515       3047974         90986   \n",
       "s__Bacteroides_dorei                     10920493          1777       4043706   \n",
       "s__Faecalibacterium_prausnitzii            536323        648125       1246731   \n",
       "s__Eubacterium_eligens                          0         10419        895911   \n",
       "s__Bacteroides_ovatus                       51366         26697             0   \n",
       "...                                           ...           ...           ...   \n",
       "s__Klebsiella_pneumoniae                        0       1544397             0   \n",
       "s__Bacteroides_coprocola                        0       1029096             0   \n",
       "s__Ruminococcus_lactaris                        0             0             0   \n",
       "s__Turicimonas_muris                            0             0             0   \n",
       "s__Proteobacteria_bacterium_CAG_139             0             0             0   \n",
       "\n",
       "                                     SAMD00114728  ...  SAMD00165024  \\\n",
       "TaxaID                                             ...                 \n",
       "s__Bacteroides_plebeius                         0  ...             0   \n",
       "s__Bacteroides_dorei                      1072863  ...             0   \n",
       "s__Faecalibacterium_prausnitzii           2339359  ...             0   \n",
       "s__Eubacterium_eligens                          0  ...             0   \n",
       "s__Bacteroides_ovatus                      249687  ...       1491036   \n",
       "...                                           ...  ...           ...   \n",
       "s__Klebsiella_pneumoniae                        0  ...             0   \n",
       "s__Bacteroides_coprocola                        0  ...             0   \n",
       "s__Ruminococcus_lactaris                  2800532  ...        113761   \n",
       "s__Turicimonas_muris                         1530  ...             0   \n",
       "s__Proteobacteria_bacterium_CAG_139          1383  ...             0   \n",
       "\n",
       "                                     SAMD00165025  SAMD00165026  SAMD00165027  \\\n",
       "TaxaID                                                                          \n",
       "s__Bacteroides_plebeius                         0       3902772             0   \n",
       "s__Bacteroides_dorei                       138343       3005330             0   \n",
       "s__Faecalibacterium_prausnitzii           2868791       1755420       5699714   \n",
       "s__Eubacterium_eligens                    1370340             0             0   \n",
       "s__Bacteroides_ovatus                      443860         56055       2543082   \n",
       "...                                           ...           ...           ...   \n",
       "s__Klebsiella_pneumoniae                        0         19537             0   \n",
       "s__Bacteroides_coprocola                        0             0             0   \n",
       "s__Ruminococcus_lactaris                        0             0             0   \n",
       "s__Turicimonas_muris                            0           357          9347   \n",
       "s__Proteobacteria_bacterium_CAG_139             0         16130         15854   \n",
       "\n",
       "                                     SAMD00165028  SAMD00165029  SAMD00165030  \\\n",
       "TaxaID                                                                          \n",
       "s__Bacteroides_plebeius                         0             0       6311760   \n",
       "s__Bacteroides_dorei                            0       5136959         18113   \n",
       "s__Faecalibacterium_prausnitzii                 0       1948287             0   \n",
       "s__Eubacterium_eligens                          0        400810        578608   \n",
       "s__Bacteroides_ovatus                           0        279863         19714   \n",
       "...                                           ...           ...           ...   \n",
       "s__Klebsiella_pneumoniae                        0             0             0   \n",
       "s__Bacteroides_coprocola                        0       5218937             0   \n",
       "s__Ruminococcus_lactaris                        0        761927             0   \n",
       "s__Turicimonas_muris                            0          1368             0   \n",
       "s__Proteobacteria_bacterium_CAG_139             0         15683             0   \n",
       "\n",
       "                                     SAMD00165031  SAMD00165032  SAMD00165033  \n",
       "TaxaID                                                                         \n",
       "s__Bacteroides_plebeius                         0       2286204             0  \n",
       "s__Bacteroides_dorei                            0        242316             0  \n",
       "s__Faecalibacterium_prausnitzii            152752       2584817             0  \n",
       "s__Eubacterium_eligens                          0       2600731             0  \n",
       "s__Bacteroides_ovatus                      361361             0             0  \n",
       "...                                           ...           ...           ...  \n",
       "s__Klebsiella_pneumoniae                        0             0             0  \n",
       "s__Bacteroides_coprocola                        0             0             0  \n",
       "s__Ruminococcus_lactaris                        0        630160             0  \n",
       "s__Turicimonas_muris                            0           653             0  \n",
       "s__Proteobacteria_bacterium_CAG_139             0        191409             0  \n",
       "\n",
       "[151 rows x 504 columns]"
      ]
     },
     "execution_count": 9,
     "metadata": {},
     "output_type": "execute_result"
    }
   ],
   "source": [
    "profile_trim = profile[phen.index]\n",
    "profile_trim.index = profile.TaxaID\n",
    "\n",
    "prof = profile_trim[profile_trim.apply(lambda x: np.count_nonzero(x)/len(x), axis=1) > 0.2]\n",
    "prof"
   ]
  },
  {
   "cell_type": "markdown",
   "metadata": {
    "nbpresent": {
     "id": "01bd515a-1951-4ae7-8d39-a96079fc9eff"
    }
   },
   "source": [
    "The **“info()”** method provides a concise summary of the data; from the output, it provides the type of data in each column, the number of non-null values in each column, and how much memory the data frame is using.\n",
    "\n",
    "The method **get_dtype_counts()** will return the number of columns of each type in a DataFrame:"
   ]
  },
  {
   "cell_type": "code",
   "execution_count": 10,
   "metadata": {
    "nbpresent": {
     "id": "e6f8be49-68cc-4381-9b0f-c872712045b6"
    }
   },
   "outputs": [
    {
     "name": "stdout",
     "output_type": "stream",
     "text": [
      "<class 'pandas.core.frame.DataFrame'>\n",
      "Index: 504 entries, SAMD00114718 to SAMD00165033\n",
      "Data columns (total 1 columns):\n",
      " #   Column   Non-Null Count  Dtype \n",
      "---  ------   --------------  ----- \n",
      " 0   disease  504 non-null    object\n",
      "dtypes: object(1)\n",
      "memory usage: 7.9+ KB\n"
     ]
    }
   ],
   "source": [
    "# Review data types with \"info()\".\n",
    "phen.info()"
   ]
  },
  {
   "cell_type": "code",
   "execution_count": 11,
   "metadata": {
    "nbpresent": {
     "id": "a9522023-ad9b-4f5b-bc07-36ff15f1746a"
    },
    "tags": []
   },
   "outputs": [
    {
     "data": {
      "text/plain": [
       "object    1\n",
       "dtype: int64"
      ]
     },
     "execution_count": 11,
     "metadata": {},
     "output_type": "execute_result"
    }
   ],
   "source": [
    "# Review number of columns of each data type in a DataFrame:\n",
    "phen.dtypes.value_counts()"
   ]
  },
  {
   "cell_type": "code",
   "execution_count": 12,
   "metadata": {
    "nbpresent": {
     "id": "73ab9300-46cb-4deb-a673-7b6f0ea718bc"
    }
   },
   "outputs": [
    {
     "data": {
      "text/plain": [
       "disease    False\n",
       "dtype: bool"
      ]
     },
     "execution_count": 12,
     "metadata": {},
     "output_type": "execute_result"
    }
   ],
   "source": [
    "#check for missing variables\n",
    "phen.isnull().any()"
   ]
  },
  {
   "cell_type": "code",
   "execution_count": 14,
   "metadata": {
    "nbpresent": {
     "id": "5f0c338b-0d11-4d51-836a-e003c07412ee"
    }
   },
   "outputs": [
    {
     "data": {
      "text/plain": [
       "array(['healthy', 'CRC'], dtype=object)"
      ]
     },
     "execution_count": 14,
     "metadata": {},
     "output_type": "execute_result"
    }
   ],
   "source": [
    "phen.disease.unique()"
   ]
  },
  {
   "cell_type": "markdown",
   "metadata": {
    "nbpresent": {
     "id": "a043ba25-f180-41cf-b29b-ec7e6bab8d57"
    }
   },
   "source": [
    "From the results above, disease is a categorical variable, because it represents a fix number of possible values (i.e, disease. The machine learning algorithms wants numbers, and not strings, as their inputs so we need some method of coding to convert them.\n",
    "\n"
   ]
  },
  {
   "cell_type": "markdown",
   "metadata": {},
   "source": [
    "## Integrating the phen and prof data\n",
    "\n",
    "Here, we select **disease** from phen and then integrate it with prof into new dataset for the downstream analysis "
   ]
  },
  {
   "cell_type": "code",
   "execution_count": 17,
   "metadata": {},
   "outputs": [
    {
     "data": {
      "text/html": [
       "<div>\n",
       "<style scoped>\n",
       "    .dataframe tbody tr th:only-of-type {\n",
       "        vertical-align: middle;\n",
       "    }\n",
       "\n",
       "    .dataframe tbody tr th {\n",
       "        vertical-align: top;\n",
       "    }\n",
       "\n",
       "    .dataframe thead th {\n",
       "        text-align: right;\n",
       "    }\n",
       "</style>\n",
       "<table border=\"1\" class=\"dataframe\">\n",
       "  <thead>\n",
       "    <tr style=\"text-align: right;\">\n",
       "      <th></th>\n",
       "      <th>SampleID</th>\n",
       "      <th>disease</th>\n",
       "    </tr>\n",
       "  </thead>\n",
       "  <tbody>\n",
       "    <tr>\n",
       "      <th>0</th>\n",
       "      <td>SAMD00114718</td>\n",
       "      <td>healthy</td>\n",
       "    </tr>\n",
       "    <tr>\n",
       "      <th>1</th>\n",
       "      <td>SAMD00114719</td>\n",
       "      <td>healthy</td>\n",
       "    </tr>\n",
       "    <tr>\n",
       "      <th>2</th>\n",
       "      <td>SAMD00114720</td>\n",
       "      <td>healthy</td>\n",
       "    </tr>\n",
       "    <tr>\n",
       "      <th>3</th>\n",
       "      <td>SAMD00114721</td>\n",
       "      <td>healthy</td>\n",
       "    </tr>\n",
       "    <tr>\n",
       "      <th>4</th>\n",
       "      <td>SAMD00114722</td>\n",
       "      <td>CRC</td>\n",
       "    </tr>\n",
       "  </tbody>\n",
       "</table>\n",
       "</div>"
      ],
      "text/plain": [
       "       SampleID  disease\n",
       "0  SAMD00114718  healthy\n",
       "1  SAMD00114719  healthy\n",
       "2  SAMD00114720  healthy\n",
       "3  SAMD00114721  healthy\n",
       "4  SAMD00114722      CRC"
      ]
     },
     "execution_count": 17,
     "metadata": {},
     "output_type": "execute_result"
    }
   ],
   "source": [
    "phen_cln = phen.iloc[:, 0].rename_axis(\"SampleID\").reset_index()\n",
    "phen_cln.head()"
   ]
  },
  {
   "cell_type": "code",
   "execution_count": 18,
   "metadata": {},
   "outputs": [
    {
     "data": {
      "text/html": [
       "<div>\n",
       "<style scoped>\n",
       "    .dataframe tbody tr th:only-of-type {\n",
       "        vertical-align: middle;\n",
       "    }\n",
       "\n",
       "    .dataframe tbody tr th {\n",
       "        vertical-align: top;\n",
       "    }\n",
       "\n",
       "    .dataframe thead th {\n",
       "        text-align: right;\n",
       "    }\n",
       "</style>\n",
       "<table border=\"1\" class=\"dataframe\">\n",
       "  <thead>\n",
       "    <tr style=\"text-align: right;\">\n",
       "      <th>TaxaID</th>\n",
       "      <th>SampleID</th>\n",
       "      <th>s__Bacteroides_plebeius</th>\n",
       "      <th>s__Bacteroides_dorei</th>\n",
       "      <th>s__Faecalibacterium_prausnitzii</th>\n",
       "      <th>s__Eubacterium_eligens</th>\n",
       "      <th>s__Bacteroides_ovatus</th>\n",
       "      <th>s__Parabacteroides_distasonis</th>\n",
       "      <th>s__Ruminococcus_gnavus</th>\n",
       "      <th>s__Phascolarctobacterium_faecium</th>\n",
       "      <th>s__Bacteroides_uniformis</th>\n",
       "      <th>...</th>\n",
       "      <th>s__Bacteroides_finegoldii</th>\n",
       "      <th>s__Haemophilus_sp_HMSC71H05</th>\n",
       "      <th>s__Clostridium_saccharolyticum</th>\n",
       "      <th>s__Streptococcus_anginosus_group</th>\n",
       "      <th>s__Streptococcus_sp_A12</th>\n",
       "      <th>s__Klebsiella_pneumoniae</th>\n",
       "      <th>s__Bacteroides_coprocola</th>\n",
       "      <th>s__Ruminococcus_lactaris</th>\n",
       "      <th>s__Turicimonas_muris</th>\n",
       "      <th>s__Proteobacteria_bacterium_CAG_139</th>\n",
       "    </tr>\n",
       "  </thead>\n",
       "  <tbody>\n",
       "    <tr>\n",
       "      <th>0</th>\n",
       "      <td>SAMD00114718</td>\n",
       "      <td>46509517</td>\n",
       "      <td>8249892</td>\n",
       "      <td>3696318</td>\n",
       "      <td>3265545</td>\n",
       "      <td>2871853</td>\n",
       "      <td>2327330</td>\n",
       "      <td>1920299</td>\n",
       "      <td>1506928</td>\n",
       "      <td>1371476</td>\n",
       "      <td>...</td>\n",
       "      <td>0</td>\n",
       "      <td>0</td>\n",
       "      <td>0</td>\n",
       "      <td>0</td>\n",
       "      <td>0</td>\n",
       "      <td>0</td>\n",
       "      <td>0</td>\n",
       "      <td>0</td>\n",
       "      <td>0</td>\n",
       "      <td>0</td>\n",
       "    </tr>\n",
       "    <tr>\n",
       "      <th>1</th>\n",
       "      <td>SAMD00114719</td>\n",
       "      <td>5334509</td>\n",
       "      <td>230275</td>\n",
       "      <td>2053756</td>\n",
       "      <td>182914</td>\n",
       "      <td>289955</td>\n",
       "      <td>89183</td>\n",
       "      <td>35688</td>\n",
       "      <td>0</td>\n",
       "      <td>729206</td>\n",
       "      <td>...</td>\n",
       "      <td>0</td>\n",
       "      <td>0</td>\n",
       "      <td>0</td>\n",
       "      <td>0</td>\n",
       "      <td>0</td>\n",
       "      <td>0</td>\n",
       "      <td>0</td>\n",
       "      <td>0</td>\n",
       "      <td>0</td>\n",
       "      <td>0</td>\n",
       "    </tr>\n",
       "    <tr>\n",
       "      <th>2</th>\n",
       "      <td>SAMD00114720</td>\n",
       "      <td>6868169</td>\n",
       "      <td>4054008</td>\n",
       "      <td>3267707</td>\n",
       "      <td>0</td>\n",
       "      <td>1097263</td>\n",
       "      <td>990122</td>\n",
       "      <td>1490407</td>\n",
       "      <td>0</td>\n",
       "      <td>1272701</td>\n",
       "      <td>...</td>\n",
       "      <td>0</td>\n",
       "      <td>0</td>\n",
       "      <td>0</td>\n",
       "      <td>0</td>\n",
       "      <td>0</td>\n",
       "      <td>0</td>\n",
       "      <td>0</td>\n",
       "      <td>0</td>\n",
       "      <td>0</td>\n",
       "      <td>0</td>\n",
       "    </tr>\n",
       "    <tr>\n",
       "      <th>3</th>\n",
       "      <td>SAMD00114721</td>\n",
       "      <td>1029678</td>\n",
       "      <td>2029259</td>\n",
       "      <td>661965</td>\n",
       "      <td>114447</td>\n",
       "      <td>110111</td>\n",
       "      <td>2705778</td>\n",
       "      <td>59274</td>\n",
       "      <td>0</td>\n",
       "      <td>940124</td>\n",
       "      <td>...</td>\n",
       "      <td>0</td>\n",
       "      <td>0</td>\n",
       "      <td>0</td>\n",
       "      <td>0</td>\n",
       "      <td>0</td>\n",
       "      <td>0</td>\n",
       "      <td>0</td>\n",
       "      <td>0</td>\n",
       "      <td>0</td>\n",
       "      <td>0</td>\n",
       "    </tr>\n",
       "    <tr>\n",
       "      <th>4</th>\n",
       "      <td>SAMD00114722</td>\n",
       "      <td>7520</td>\n",
       "      <td>2318235</td>\n",
       "      <td>350665</td>\n",
       "      <td>546829</td>\n",
       "      <td>564558</td>\n",
       "      <td>2529966</td>\n",
       "      <td>4608830</td>\n",
       "      <td>0</td>\n",
       "      <td>1888066</td>\n",
       "      <td>...</td>\n",
       "      <td>512018</td>\n",
       "      <td>137432</td>\n",
       "      <td>71548</td>\n",
       "      <td>15826</td>\n",
       "      <td>0</td>\n",
       "      <td>0</td>\n",
       "      <td>0</td>\n",
       "      <td>0</td>\n",
       "      <td>0</td>\n",
       "      <td>0</td>\n",
       "    </tr>\n",
       "  </tbody>\n",
       "</table>\n",
       "<p>5 rows × 152 columns</p>\n",
       "</div>"
      ],
      "text/plain": [
       "TaxaID      SampleID  s__Bacteroides_plebeius  s__Bacteroides_dorei  \\\n",
       "0       SAMD00114718                 46509517               8249892   \n",
       "1       SAMD00114719                  5334509                230275   \n",
       "2       SAMD00114720                  6868169               4054008   \n",
       "3       SAMD00114721                  1029678               2029259   \n",
       "4       SAMD00114722                     7520               2318235   \n",
       "\n",
       "TaxaID  s__Faecalibacterium_prausnitzii  s__Eubacterium_eligens  \\\n",
       "0                               3696318                 3265545   \n",
       "1                               2053756                  182914   \n",
       "2                               3267707                       0   \n",
       "3                                661965                  114447   \n",
       "4                                350665                  546829   \n",
       "\n",
       "TaxaID  s__Bacteroides_ovatus  s__Parabacteroides_distasonis  \\\n",
       "0                     2871853                        2327330   \n",
       "1                      289955                          89183   \n",
       "2                     1097263                         990122   \n",
       "3                      110111                        2705778   \n",
       "4                      564558                        2529966   \n",
       "\n",
       "TaxaID  s__Ruminococcus_gnavus  s__Phascolarctobacterium_faecium  \\\n",
       "0                      1920299                           1506928   \n",
       "1                        35688                                 0   \n",
       "2                      1490407                                 0   \n",
       "3                        59274                                 0   \n",
       "4                      4608830                                 0   \n",
       "\n",
       "TaxaID  s__Bacteroides_uniformis  ...  s__Bacteroides_finegoldii  \\\n",
       "0                        1371476  ...                          0   \n",
       "1                         729206  ...                          0   \n",
       "2                        1272701  ...                          0   \n",
       "3                         940124  ...                          0   \n",
       "4                        1888066  ...                     512018   \n",
       "\n",
       "TaxaID  s__Haemophilus_sp_HMSC71H05  s__Clostridium_saccharolyticum  \\\n",
       "0                                 0                               0   \n",
       "1                                 0                               0   \n",
       "2                                 0                               0   \n",
       "3                                 0                               0   \n",
       "4                            137432                           71548   \n",
       "\n",
       "TaxaID  s__Streptococcus_anginosus_group  s__Streptococcus_sp_A12  \\\n",
       "0                                      0                        0   \n",
       "1                                      0                        0   \n",
       "2                                      0                        0   \n",
       "3                                      0                        0   \n",
       "4                                  15826                        0   \n",
       "\n",
       "TaxaID  s__Klebsiella_pneumoniae  s__Bacteroides_coprocola  \\\n",
       "0                              0                         0   \n",
       "1                              0                         0   \n",
       "2                              0                         0   \n",
       "3                              0                         0   \n",
       "4                              0                         0   \n",
       "\n",
       "TaxaID  s__Ruminococcus_lactaris  s__Turicimonas_muris  \\\n",
       "0                              0                     0   \n",
       "1                              0                     0   \n",
       "2                              0                     0   \n",
       "3                              0                     0   \n",
       "4                              0                     0   \n",
       "\n",
       "TaxaID  s__Proteobacteria_bacterium_CAG_139  \n",
       "0                                         0  \n",
       "1                                         0  \n",
       "2                                         0  \n",
       "3                                         0  \n",
       "4                                         0  \n",
       "\n",
       "[5 rows x 152 columns]"
      ]
     },
     "execution_count": 18,
     "metadata": {},
     "output_type": "execute_result"
    }
   ],
   "source": [
    "\n",
    "prof_cln = prof.T.rename_axis(\"SampleID\").reset_index()\n",
    "prof_cln.head()\n"
   ]
  },
  {
   "cell_type": "code",
   "execution_count": 19,
   "metadata": {},
   "outputs": [
    {
     "data": {
      "text/html": [
       "<div>\n",
       "<style scoped>\n",
       "    .dataframe tbody tr th:only-of-type {\n",
       "        vertical-align: middle;\n",
       "    }\n",
       "\n",
       "    .dataframe tbody tr th {\n",
       "        vertical-align: top;\n",
       "    }\n",
       "\n",
       "    .dataframe thead th {\n",
       "        text-align: right;\n",
       "    }\n",
       "</style>\n",
       "<table border=\"1\" class=\"dataframe\">\n",
       "  <thead>\n",
       "    <tr style=\"text-align: right;\">\n",
       "      <th></th>\n",
       "      <th>SampleID</th>\n",
       "      <th>disease</th>\n",
       "      <th>s__Bacteroides_plebeius</th>\n",
       "      <th>s__Bacteroides_dorei</th>\n",
       "      <th>s__Faecalibacterium_prausnitzii</th>\n",
       "      <th>s__Eubacterium_eligens</th>\n",
       "      <th>s__Bacteroides_ovatus</th>\n",
       "      <th>s__Parabacteroides_distasonis</th>\n",
       "      <th>s__Ruminococcus_gnavus</th>\n",
       "      <th>s__Phascolarctobacterium_faecium</th>\n",
       "      <th>...</th>\n",
       "      <th>s__Bacteroides_finegoldii</th>\n",
       "      <th>s__Haemophilus_sp_HMSC71H05</th>\n",
       "      <th>s__Clostridium_saccharolyticum</th>\n",
       "      <th>s__Streptococcus_anginosus_group</th>\n",
       "      <th>s__Streptococcus_sp_A12</th>\n",
       "      <th>s__Klebsiella_pneumoniae</th>\n",
       "      <th>s__Bacteroides_coprocola</th>\n",
       "      <th>s__Ruminococcus_lactaris</th>\n",
       "      <th>s__Turicimonas_muris</th>\n",
       "      <th>s__Proteobacteria_bacterium_CAG_139</th>\n",
       "    </tr>\n",
       "  </thead>\n",
       "  <tbody>\n",
       "    <tr>\n",
       "      <th>0</th>\n",
       "      <td>SAMD00114718</td>\n",
       "      <td>healthy</td>\n",
       "      <td>46509517</td>\n",
       "      <td>8249892</td>\n",
       "      <td>3696318</td>\n",
       "      <td>3265545</td>\n",
       "      <td>2871853</td>\n",
       "      <td>2327330</td>\n",
       "      <td>1920299</td>\n",
       "      <td>1506928</td>\n",
       "      <td>...</td>\n",
       "      <td>0</td>\n",
       "      <td>0</td>\n",
       "      <td>0</td>\n",
       "      <td>0</td>\n",
       "      <td>0</td>\n",
       "      <td>0</td>\n",
       "      <td>0</td>\n",
       "      <td>0</td>\n",
       "      <td>0</td>\n",
       "      <td>0</td>\n",
       "    </tr>\n",
       "    <tr>\n",
       "      <th>1</th>\n",
       "      <td>SAMD00114719</td>\n",
       "      <td>healthy</td>\n",
       "      <td>5334509</td>\n",
       "      <td>230275</td>\n",
       "      <td>2053756</td>\n",
       "      <td>182914</td>\n",
       "      <td>289955</td>\n",
       "      <td>89183</td>\n",
       "      <td>35688</td>\n",
       "      <td>0</td>\n",
       "      <td>...</td>\n",
       "      <td>0</td>\n",
       "      <td>0</td>\n",
       "      <td>0</td>\n",
       "      <td>0</td>\n",
       "      <td>0</td>\n",
       "      <td>0</td>\n",
       "      <td>0</td>\n",
       "      <td>0</td>\n",
       "      <td>0</td>\n",
       "      <td>0</td>\n",
       "    </tr>\n",
       "    <tr>\n",
       "      <th>2</th>\n",
       "      <td>SAMD00114720</td>\n",
       "      <td>healthy</td>\n",
       "      <td>6868169</td>\n",
       "      <td>4054008</td>\n",
       "      <td>3267707</td>\n",
       "      <td>0</td>\n",
       "      <td>1097263</td>\n",
       "      <td>990122</td>\n",
       "      <td>1490407</td>\n",
       "      <td>0</td>\n",
       "      <td>...</td>\n",
       "      <td>0</td>\n",
       "      <td>0</td>\n",
       "      <td>0</td>\n",
       "      <td>0</td>\n",
       "      <td>0</td>\n",
       "      <td>0</td>\n",
       "      <td>0</td>\n",
       "      <td>0</td>\n",
       "      <td>0</td>\n",
       "      <td>0</td>\n",
       "    </tr>\n",
       "    <tr>\n",
       "      <th>3</th>\n",
       "      <td>SAMD00114721</td>\n",
       "      <td>healthy</td>\n",
       "      <td>1029678</td>\n",
       "      <td>2029259</td>\n",
       "      <td>661965</td>\n",
       "      <td>114447</td>\n",
       "      <td>110111</td>\n",
       "      <td>2705778</td>\n",
       "      <td>59274</td>\n",
       "      <td>0</td>\n",
       "      <td>...</td>\n",
       "      <td>0</td>\n",
       "      <td>0</td>\n",
       "      <td>0</td>\n",
       "      <td>0</td>\n",
       "      <td>0</td>\n",
       "      <td>0</td>\n",
       "      <td>0</td>\n",
       "      <td>0</td>\n",
       "      <td>0</td>\n",
       "      <td>0</td>\n",
       "    </tr>\n",
       "    <tr>\n",
       "      <th>4</th>\n",
       "      <td>SAMD00114722</td>\n",
       "      <td>CRC</td>\n",
       "      <td>7520</td>\n",
       "      <td>2318235</td>\n",
       "      <td>350665</td>\n",
       "      <td>546829</td>\n",
       "      <td>564558</td>\n",
       "      <td>2529966</td>\n",
       "      <td>4608830</td>\n",
       "      <td>0</td>\n",
       "      <td>...</td>\n",
       "      <td>512018</td>\n",
       "      <td>137432</td>\n",
       "      <td>71548</td>\n",
       "      <td>15826</td>\n",
       "      <td>0</td>\n",
       "      <td>0</td>\n",
       "      <td>0</td>\n",
       "      <td>0</td>\n",
       "      <td>0</td>\n",
       "      <td>0</td>\n",
       "    </tr>\n",
       "  </tbody>\n",
       "</table>\n",
       "<p>5 rows × 153 columns</p>\n",
       "</div>"
      ],
      "text/plain": [
       "       SampleID  disease  s__Bacteroides_plebeius  s__Bacteroides_dorei  \\\n",
       "0  SAMD00114718  healthy                 46509517               8249892   \n",
       "1  SAMD00114719  healthy                  5334509                230275   \n",
       "2  SAMD00114720  healthy                  6868169               4054008   \n",
       "3  SAMD00114721  healthy                  1029678               2029259   \n",
       "4  SAMD00114722      CRC                     7520               2318235   \n",
       "\n",
       "   s__Faecalibacterium_prausnitzii  s__Eubacterium_eligens  \\\n",
       "0                          3696318                 3265545   \n",
       "1                          2053756                  182914   \n",
       "2                          3267707                       0   \n",
       "3                           661965                  114447   \n",
       "4                           350665                  546829   \n",
       "\n",
       "   s__Bacteroides_ovatus  s__Parabacteroides_distasonis  \\\n",
       "0                2871853                        2327330   \n",
       "1                 289955                          89183   \n",
       "2                1097263                         990122   \n",
       "3                 110111                        2705778   \n",
       "4                 564558                        2529966   \n",
       "\n",
       "   s__Ruminococcus_gnavus  s__Phascolarctobacterium_faecium  ...  \\\n",
       "0                 1920299                           1506928  ...   \n",
       "1                   35688                                 0  ...   \n",
       "2                 1490407                                 0  ...   \n",
       "3                   59274                                 0  ...   \n",
       "4                 4608830                                 0  ...   \n",
       "\n",
       "   s__Bacteroides_finegoldii  s__Haemophilus_sp_HMSC71H05  \\\n",
       "0                          0                            0   \n",
       "1                          0                            0   \n",
       "2                          0                            0   \n",
       "3                          0                            0   \n",
       "4                     512018                       137432   \n",
       "\n",
       "   s__Clostridium_saccharolyticum  s__Streptococcus_anginosus_group  \\\n",
       "0                               0                                 0   \n",
       "1                               0                                 0   \n",
       "2                               0                                 0   \n",
       "3                               0                                 0   \n",
       "4                           71548                             15826   \n",
       "\n",
       "   s__Streptococcus_sp_A12  s__Klebsiella_pneumoniae  \\\n",
       "0                        0                         0   \n",
       "1                        0                         0   \n",
       "2                        0                         0   \n",
       "3                        0                         0   \n",
       "4                        0                         0   \n",
       "\n",
       "   s__Bacteroides_coprocola  s__Ruminococcus_lactaris  s__Turicimonas_muris  \\\n",
       "0                         0                         0                     0   \n",
       "1                         0                         0                     0   \n",
       "2                         0                         0                     0   \n",
       "3                         0                         0                     0   \n",
       "4                         0                         0                     0   \n",
       "\n",
       "   s__Proteobacteria_bacterium_CAG_139  \n",
       "0                                    0  \n",
       "1                                    0  \n",
       "2                                    0  \n",
       "3                                    0  \n",
       "4                                    0  \n",
       "\n",
       "[5 rows x 153 columns]"
      ]
     },
     "execution_count": 19,
     "metadata": {},
     "output_type": "execute_result"
    }
   ],
   "source": [
    "mdat = pd.merge(phen_cln, prof_cln, on=\"SampleID\", how=\"inner\")\n",
    "mdat.head()"
   ]
  },
  {
   "cell_type": "code",
   "execution_count": 21,
   "metadata": {
    "nbpresent": {
     "id": "06fb5119-7446-4892-a2a5-4770b4f98297"
    },
    "tags": []
   },
   "outputs": [],
   "source": [
    "#save the cleaner version of dataframe for future analyis\n",
    "mdat.to_csv('./dataset/MergeData.tsv',\n",
    "            sep='\\t', encoding='utf-8', index=False)"
   ]
  },
  {
   "cell_type": "markdown",
   "metadata": {},
   "source": [
    "## Summary\n",
    "\n",
    "* 151 species were selected more then 0.2 occurrence in Gastric Cancer\n",
    "* 504 patients with Gastric Cancer were chosen"
   ]
  },
  {
   "cell_type": "markdown",
   "metadata": {},
   "source": [
    "## Reference\n",
    "\n",
    "* [Breast-cancer-risk-prediction](https://github.com/Jean-njoroge/Breast-cancer-risk-prediction)"
   ]
  }
 ],
 "metadata": {
  "anaconda-cloud": {},
  "kernelspec": {
   "display_name": "Python 3.9.13 ('base')",
   "language": "python",
   "name": "python3"
  },
  "language_info": {
   "codemirror_mode": {
    "name": "ipython",
    "version": 3
   },
   "file_extension": ".py",
   "mimetype": "text/x-python",
   "name": "python",
   "nbconvert_exporter": "python",
   "pygments_lexer": "ipython3",
   "version": "3.9.13"
  },
  "nbpresent": {
   "slides": {
    "029765a0-324f-4829-89ed-d4c3d7bdfa56": {
     "id": "029765a0-324f-4829-89ed-d4c3d7bdfa56",
     "prev": "eb53caf1-dd5e-40f6-a08e-acb2c9064355",
     "regions": {
      "020ba674-4256-4ab4-93a1-7e0e7a2161ba": {
       "attrs": {
        "height": 0.8,
        "width": 0.8,
        "x": 0.1,
        "y": 0.1
       },
       "content": {
        "cell": "e6f8be49-68cc-4381-9b0f-c872712045b6",
        "part": "whole"
       },
       "id": "020ba674-4256-4ab4-93a1-7e0e7a2161ba"
      }
     }
    },
    "17063b65-52ab-4296-866f-1732fbe2b4c5": {
     "id": "17063b65-52ab-4296-866f-1732fbe2b4c5",
     "prev": "c5378b35-bbe4-43b7-9739-6d787ad32ada",
     "regions": {
      "a2944b54-cb8b-4d2d-9a89-e0fdfc9a5a03": {
       "attrs": {
        "height": 0.8,
        "width": 0.8,
        "x": 0.1,
        "y": 0.1
       },
       "content": {
        "cell": "b6af97c7-30d4-4fc6-b9d5-a213f70788c2",
        "part": "whole"
       },
       "id": "a2944b54-cb8b-4d2d-9a89-e0fdfc9a5a03"
      }
     }
    },
    "1ce04cdb-6165-4b4f-aaf7-e856a34a5139": {
     "id": "1ce04cdb-6165-4b4f-aaf7-e856a34a5139",
     "prev": "3ae68135-1f69-426a-baea-d9929a65e1c1",
     "regions": {
      "26b78508-b18f-4e94-9db0-4e860e9aeef3": {
       "attrs": {
        "height": 0.8,
        "width": 0.8,
        "x": 0.1,
        "y": 0.1
       },
       "content": {
        "cell": "73ab9300-46cb-4deb-a673-7b6f0ea718bc",
        "part": "whole"
       },
       "id": "26b78508-b18f-4e94-9db0-4e860e9aeef3"
      }
     }
    },
    "364cf224-3a9c-4786-a47f-522b3613c613": {
     "id": "364cf224-3a9c-4786-a47f-522b3613c613",
     "prev": "58d1aade-0c9f-4b85-8ac1-1ce8631623e8",
     "regions": {
      "6996a269-8482-407e-8720-5ae4f5c7dbd2": {
       "attrs": {
        "height": 0.8,
        "width": 0.8,
        "x": 0.1,
        "y": 0.1
       },
       "content": {
        "cell": "06fb5119-7446-4892-a2a5-4770b4f98297",
        "part": "whole"
       },
       "id": "6996a269-8482-407e-8720-5ae4f5c7dbd2"
      }
     }
    },
    "3ae68135-1f69-426a-baea-d9929a65e1c1": {
     "id": "3ae68135-1f69-426a-baea-d9929a65e1c1",
     "prev": "e7e979eb-a900-4dea-b580-ce7a8750f2ed",
     "regions": {
      "bd9adb8d-a5a5-4462-bf77-b75de0851d0a": {
       "attrs": {
        "height": 0.8,
        "width": 0.8,
        "x": 0.1,
        "y": 0.1
       },
       "content": {
        "cell": "65d636e8-6dca-4a24-988f-10dac2b05134",
        "part": "whole"
       },
       "id": "bd9adb8d-a5a5-4462-bf77-b75de0851d0a"
      }
     }
    },
    "504c799a-10a2-49b6-84c5-f8183c00d180": {
     "id": "504c799a-10a2-49b6-84c5-f8183c00d180",
     "prev": "f110b360-85b7-4b4b-b99f-6d7647b3bed6",
     "regions": {
      "cc92786c-5118-4036-84aa-87fa91d28467": {
       "attrs": {
        "height": 0.8,
        "width": 0.8,
        "x": 0.1,
        "y": 0.1
       },
       "content": {
        "cell": "3749cd67-821c-4c70-b6e1-c9fa76be4ee8",
        "part": "whole"
       },
       "id": "cc92786c-5118-4036-84aa-87fa91d28467"
      }
     }
    },
    "58d1aade-0c9f-4b85-8ac1-1ce8631623e8": {
     "id": "58d1aade-0c9f-4b85-8ac1-1ce8631623e8",
     "prev": "d46dbd63-6e42-4de8-a34a-d797e2bf75a2",
     "regions": {
      "2814a179-b51d-4b1e-b1ea-05830fdc84ff": {
       "attrs": {
        "height": 0.8,
        "width": 0.8,
        "x": 0.1,
        "y": 0.1
       },
       "content": {
        "cell": "a043ba25-f180-41cf-b29b-ec7e6bab8d57",
        "part": "whole"
       },
       "id": "2814a179-b51d-4b1e-b1ea-05830fdc84ff"
      }
     }
    },
    "8752525b-c794-48fe-8aa7-d4a85bdf53fa": {
     "id": "8752525b-c794-48fe-8aa7-d4a85bdf53fa",
     "prev": "df830ab6-e594-43d4-a9ad-f241e13b1278",
     "regions": {
      "7226298c-bfa5-44a2-bd6d-21fb50409904": {
       "attrs": {
        "height": 0.8,
        "width": 0.8,
        "x": 0.1,
        "y": 0.1
       },
       "content": {
        "cell": "678c0d45-faba-4084-9235-0923c653792a",
        "part": "whole"
       },
       "id": "7226298c-bfa5-44a2-bd6d-21fb50409904"
      }
     }
    },
    "92de18eb-29ed-44b0-83c8-95db511e0e55": {
     "id": "92de18eb-29ed-44b0-83c8-95db511e0e55",
     "prev": "8752525b-c794-48fe-8aa7-d4a85bdf53fa",
     "regions": {
      "9f8e4fc0-1a4c-4f98-964f-9027dcfb6df5": {
       "attrs": {
        "height": 0.8,
        "width": 0.8,
        "x": 0.1,
        "y": 0.1
       },
       "content": {
        "cell": "0a72bf45-3489-4633-a99f-d4fba5d072ac",
        "part": "whole"
       },
       "id": "9f8e4fc0-1a4c-4f98-964f-9027dcfb6df5"
      }
     }
    },
    "98ca86b5-1929-489d-bc0c-5095a542b89f": {
     "id": "98ca86b5-1929-489d-bc0c-5095a542b89f",
     "prev": null,
     "regions": {
      "4080ad88-0b11-4a89-a777-7a22dcc73104": {
       "attrs": {
        "height": 0.8,
        "width": 0.8,
        "x": 0.1,
        "y": 0.1
       },
       "content": {
        "cell": "9f1df27f-184a-4b8b-bac6-951c73073085",
        "part": "whole"
       },
       "id": "4080ad88-0b11-4a89-a777-7a22dcc73104"
      }
     }
    },
    "98e9ac6a-316b-4e29-b4ee-bc6a149ceffb": {
     "id": "98e9ac6a-316b-4e29-b4ee-bc6a149ceffb",
     "prev": "c8da1fba-4fc5-4f36-8fac-423cbb55f44a",
     "regions": {
      "4cd7cf6b-40c0-4886-a5cc-a8821d855a7b": {
       "attrs": {
        "height": 0.8,
        "width": 0.8,
        "x": 0.1,
        "y": 0.1
       },
       "content": {
        "cell": "818004ce-3b93-48be-9fb8-9bacb0f07f33",
        "part": "whole"
       },
       "id": "4cd7cf6b-40c0-4886-a5cc-a8821d855a7b"
      }
     }
    },
    "adcf599c-e7e7-4245-b171-d38d06a41644": {
     "id": "adcf599c-e7e7-4245-b171-d38d06a41644",
     "prev": "d93546de-291d-4547-8f16-425c2edc33ee",
     "regions": {
      "342e1946-4183-4572-994d-5cc77c8b1ab6": {
       "attrs": {
        "height": 0.8,
        "width": 0.8,
        "x": 0.1,
        "y": 0.1
       },
       "content": {
        "cell": "a7e09e9f-7609-4cb0-b81e-67442d426e0d",
        "part": "whole"
       },
       "id": "342e1946-4183-4572-994d-5cc77c8b1ab6"
      }
     }
    },
    "c5378b35-bbe4-43b7-9739-6d787ad32ada": {
     "id": "c5378b35-bbe4-43b7-9739-6d787ad32ada",
     "prev": "98e9ac6a-316b-4e29-b4ee-bc6a149ceffb",
     "regions": {
      "2b8bbb2a-fa7f-4a72-80ce-f5deb38e8b22": {
       "attrs": {
        "height": 0.8,
        "width": 0.8,
        "x": 0.1,
        "y": 0.1
       },
       "content": {
        "cell": "34efc993-87f8-4055-bde3-0231aacc0579",
        "part": "whole"
       },
       "id": "2b8bbb2a-fa7f-4a72-80ce-f5deb38e8b22"
      }
     }
    },
    "c8da1fba-4fc5-4f36-8fac-423cbb55f44a": {
     "id": "c8da1fba-4fc5-4f36-8fac-423cbb55f44a",
     "prev": "adcf599c-e7e7-4245-b171-d38d06a41644",
     "regions": {
      "5acfa550-6a81-4477-afe6-a6d1de5d5fb4": {
       "attrs": {
        "height": 0.8,
        "width": 0.8,
        "x": 0.1,
        "y": 0.1
       },
       "content": {
        "cell": "e7a5c9bd-eaa8-4f5e-9e19-18ceea5e11af",
        "part": "whole"
       },
       "id": "5acfa550-6a81-4477-afe6-a6d1de5d5fb4"
      }
     }
    },
    "d46dbd63-6e42-4de8-a34a-d797e2bf75a2": {
     "id": "d46dbd63-6e42-4de8-a34a-d797e2bf75a2",
     "prev": "1ce04cdb-6165-4b4f-aaf7-e856a34a5139",
     "regions": {
      "993139e0-e0c0-4d94-a67a-8d83eb3ab97b": {
       "attrs": {
        "height": 0.8,
        "width": 0.8,
        "x": 0.1,
        "y": 0.1
       },
       "content": {
        "cell": "5f0c338b-0d11-4d51-836a-e003c07412ee",
        "part": "whole"
       },
       "id": "993139e0-e0c0-4d94-a67a-8d83eb3ab97b"
      }
     }
    },
    "d93546de-291d-4547-8f16-425c2edc33ee": {
     "id": "d93546de-291d-4547-8f16-425c2edc33ee",
     "prev": "98ca86b5-1929-489d-bc0c-5095a542b89f",
     "regions": {
      "a9485a01-dd0d-4ca2-a9a4-4dfa70d762af": {
       "attrs": {
        "height": 0.8,
        "width": 0.8,
        "x": 0.1,
        "y": 0.1
       },
       "content": {
        "cell": "f9774957-e9a8-4e5d-a3a2-11d58c98f4f3",
        "part": "whole"
       },
       "id": "a9485a01-dd0d-4ca2-a9a4-4dfa70d762af"
      }
     }
    },
    "df830ab6-e594-43d4-a9ad-f241e13b1278": {
     "id": "df830ab6-e594-43d4-a9ad-f241e13b1278",
     "prev": "e8f59263-df5b-41b7-b47a-b72401367b8c",
     "regions": {
      "539907c0-857c-49ab-a35b-689088d4d441": {
       "attrs": {
        "height": 0.8,
        "width": 0.8,
        "x": 0.1,
        "y": 0.1
       },
       "content": {
        "cell": "dd80c7bb-5dfd-4bac-b1f9-92f09954a04d",
        "part": "whole"
       },
       "id": "539907c0-857c-49ab-a35b-689088d4d441"
      }
     }
    },
    "e7e979eb-a900-4dea-b580-ce7a8750f2ed": {
     "id": "e7e979eb-a900-4dea-b580-ce7a8750f2ed",
     "prev": "029765a0-324f-4829-89ed-d4c3d7bdfa56",
     "regions": {
      "ef9a6766-0a12-4eb5-bb55-c45a7807f03e": {
       "attrs": {
        "height": 0.8,
        "width": 0.8,
        "x": 0.1,
        "y": 0.1
       },
       "content": {
        "cell": "a9522023-ad9b-4f5b-bc07-36ff15f1746a",
        "part": "whole"
       },
       "id": "ef9a6766-0a12-4eb5-bb55-c45a7807f03e"
      }
     }
    },
    "e8f59263-df5b-41b7-b47a-b72401367b8c": {
     "id": "e8f59263-df5b-41b7-b47a-b72401367b8c",
     "prev": "17063b65-52ab-4296-866f-1732fbe2b4c5",
     "regions": {
      "7f5be598-0698-4492-b474-a68934db4693": {
       "attrs": {
        "height": 0.8,
        "width": 0.8,
        "x": 0.1,
        "y": 0.1
       },
       "content": {
        "cell": "3411a17b-52dd-4b3d-8ec4-22e6ea79a516",
        "part": "whole"
       },
       "id": "7f5be598-0698-4492-b474-a68934db4693"
      }
     }
    },
    "eb53caf1-dd5e-40f6-a08e-acb2c9064355": {
     "id": "eb53caf1-dd5e-40f6-a08e-acb2c9064355",
     "prev": "92de18eb-29ed-44b0-83c8-95db511e0e55",
     "regions": {
      "0e9f4ac0-108d-4a56-8920-34eaa676bbd6": {
       "attrs": {
        "height": 0.8,
        "width": 0.8,
        "x": 0.1,
        "y": 0.1
       },
       "content": {
        "cell": "01bd515a-1951-4ae7-8d39-a96079fc9eff",
        "part": "whole"
       },
       "id": "0e9f4ac0-108d-4a56-8920-34eaa676bbd6"
      }
     }
    },
    "f110b360-85b7-4b4b-b99f-6d7647b3bed6": {
     "id": "f110b360-85b7-4b4b-b99f-6d7647b3bed6",
     "prev": "364cf224-3a9c-4786-a47f-522b3613c613",
     "regions": {
      "95a79cf2-40d9-401a-9392-2dff5250fc23": {
       "attrs": {
        "height": 0.8,
        "width": 0.8,
        "x": 0.1,
        "y": 0.1
       },
       "content": {
        "cell": "9469d4ac-470e-4b21-a460-bdfb54fd0d4f",
        "part": "whole"
       },
       "id": "95a79cf2-40d9-401a-9392-2dff5250fc23"
      }
     }
    }
   },
   "themes": {}
  },
  "vscode": {
   "interpreter": {
    "hash": "3445c5d85724693529b55e19c5cc3d4e0da5294de01b172166ae423dba636440"
   }
  }
 },
 "nbformat": 4,
 "nbformat_minor": 4
}
