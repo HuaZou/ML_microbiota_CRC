{
 "cells": [
  {
   "cell_type": "markdown",
   "metadata": {},
   "source": [
    "# Machine Learning on gut microbiota of patients with Colorectal cancer (6): Predictive model using Support Vector Machine\n",
    "\n",
    "Support vector machines (SVMs) learning algorithm will be used to build the predictive model.  SVMs are one of the most popular classification algorithms, and have an elegant way of transforming nonlinear data so that one can use a linear algorithm to fit a linear model to the data (Cortes and Vapnik 1995)\n",
    "\n",
    "Kernelized support vector machines are powerful models and perform well on a variety of datasets. \n",
    "1. SVMs allow for complex decision boundaries, even if the data has only a few features. \n",
    "2. They work well on low-dimensional and high-dimensional data (i.e., few and many features), but don’t scale very well with the number of samples.\n",
    "> **Running an SVM on data with up to 10,000 samples might work well, but working with datasets of size 100,000 or more can become challenging in terms of runtime and memory usage.**\n",
    "\n",
    "3. SVMs requires careful preprocessing of the data and tuning of the parameters. This is why, these days, most people instead use tree-based models such as random forests or gradient boosting (which require little or no preprocessing) in many applications. \n",
    "4.  SVM models are hard to inspect; it can be difficult to understand why a particular prediction was made, and it might be tricky to explain the model to a nonexpert.\n",
    "\n",
    "## Important Parameters\n",
    "The important parameters in kernel SVMs are the\n",
    "* Regularization parameter C, \n",
    "* The choice of the kernel,(linear, radial basis function(RBF) or polynomial)\n",
    "* Kernel-specific parameters. \n",
    "\n",
    "gamma and C both control the complexity of the model, with large values in either resulting in a more complex model. Therefore, good settings for the two parameters are usually strongly correlated, and C and gamma should be adjusted together."
   ]
  },
  {
   "cell_type": "markdown",
   "metadata": {},
   "source": [
    "## Loading essential libraries"
   ]
  },
  {
   "cell_type": "code",
   "execution_count": 1,
   "metadata": {},
   "outputs": [],
   "source": [
    "%matplotlib inline\n",
    "import matplotlib.pyplot as plt\n",
    "\n",
    "import pandas as pd \n",
    "import numpy as np\n",
    "from scipy.stats import norm\n",
    "\n",
    "## Supervised learning.\n",
    "from sklearn.preprocessing import StandardScaler\n",
    "from sklearn.preprocessing import LabelEncoder\n",
    "from sklearn.model_selection import train_test_split\n",
    "from sklearn.svm import SVC\n",
    "from sklearn.model_selection import cross_val_score\n",
    "from sklearn.pipeline import make_pipeline\n",
    "from sklearn.metrics import confusion_matrix\n",
    "from sklearn import metrics, preprocessing\n",
    "from sklearn.metrics import classification_report\n",
    "\n",
    "# visualization\n",
    "import seaborn as sns \n",
    "plt.style.use('fivethirtyeight')\n",
    "sns.set_style(\"white\")\n",
    "\n",
    "plt.rcParams['figure.figsize'] = (8, 4) \n",
    "#plt.rcParams['axes.titlesize'] = 'large'"
   ]
  },
  {
   "cell_type": "markdown",
   "metadata": {},
   "source": [
    "## Importing data"
   ]
  },
  {
   "cell_type": "code",
   "execution_count": 2,
   "metadata": {},
   "outputs": [
    {
     "data": {
      "text/html": [
       "<div>\n",
       "<style scoped>\n",
       "    .dataframe tbody tr th:only-of-type {\n",
       "        vertical-align: middle;\n",
       "    }\n",
       "\n",
       "    .dataframe tbody tr th {\n",
       "        vertical-align: top;\n",
       "    }\n",
       "\n",
       "    .dataframe thead th {\n",
       "        text-align: right;\n",
       "    }\n",
       "</style>\n",
       "<table border=\"1\" class=\"dataframe\">\n",
       "  <thead>\n",
       "    <tr style=\"text-align: right;\">\n",
       "      <th></th>\n",
       "      <th>disease</th>\n",
       "      <th>s__Parvimonas_micra</th>\n",
       "      <th>s__Roseburia_faecis</th>\n",
       "      <th>s__Collinsella_aerofaciens</th>\n",
       "      <th>s__Actinomyces_sp_HMSC035G02</th>\n",
       "      <th>s__Roseburia_intestinalis</th>\n",
       "      <th>s__Bacteroides_plebeius</th>\n",
       "      <th>s__Faecalibacterium_prausnitzii</th>\n",
       "      <th>s__Eubacterium_eligens</th>\n",
       "      <th>s__Ruminococcus_bicirculans</th>\n",
       "      <th>...</th>\n",
       "      <th>s__Bacteroides_caccae</th>\n",
       "      <th>s__Alistipes_shahii</th>\n",
       "      <th>s__Fusobacterium_mortiferum</th>\n",
       "      <th>s__Bacteroides_dorei</th>\n",
       "      <th>s__Bifidobacterium_pseudocatenulatum</th>\n",
       "      <th>s__Blautia_wexlerae</th>\n",
       "      <th>s__Haemophilus_parainfluenzae</th>\n",
       "      <th>s__Turicimonas_muris</th>\n",
       "      <th>s__Gemella_haemolysans</th>\n",
       "      <th>s__Bifidobacterium_longum</th>\n",
       "    </tr>\n",
       "  </thead>\n",
       "  <tbody>\n",
       "    <tr>\n",
       "      <th>0</th>\n",
       "      <td>healthy</td>\n",
       "      <td>-3.441779</td>\n",
       "      <td>-3.441779</td>\n",
       "      <td>6.576766</td>\n",
       "      <td>-3.441779</td>\n",
       "      <td>-3.441779</td>\n",
       "      <td>10.262146</td>\n",
       "      <td>7.729839</td>\n",
       "      <td>7.605931</td>\n",
       "      <td>-3.441779</td>\n",
       "      <td>...</td>\n",
       "      <td>-3.441779</td>\n",
       "      <td>0.667517</td>\n",
       "      <td>-3.441779</td>\n",
       "      <td>8.532694</td>\n",
       "      <td>-3.441779</td>\n",
       "      <td>6.386041</td>\n",
       "      <td>4.686443</td>\n",
       "      <td>-3.441779</td>\n",
       "      <td>-3.441779</td>\n",
       "      <td>6.717971</td>\n",
       "    </tr>\n",
       "    <tr>\n",
       "      <th>1</th>\n",
       "      <td>healthy</td>\n",
       "      <td>-3.929140</td>\n",
       "      <td>5.691656</td>\n",
       "      <td>4.532923</td>\n",
       "      <td>-3.929140</td>\n",
       "      <td>6.393962</td>\n",
       "      <td>7.609333</td>\n",
       "      <td>6.654823</td>\n",
       "      <td>4.236672</td>\n",
       "      <td>4.372945</td>\n",
       "      <td>...</td>\n",
       "      <td>3.844374</td>\n",
       "      <td>1.704619</td>\n",
       "      <td>-3.929140</td>\n",
       "      <td>4.466872</td>\n",
       "      <td>3.229868</td>\n",
       "      <td>2.122180</td>\n",
       "      <td>2.479674</td>\n",
       "      <td>-3.929140</td>\n",
       "      <td>-3.929140</td>\n",
       "      <td>4.429797</td>\n",
       "    </tr>\n",
       "    <tr>\n",
       "      <th>2</th>\n",
       "      <td>healthy</td>\n",
       "      <td>-0.407520</td>\n",
       "      <td>7.383588</td>\n",
       "      <td>-3.379905</td>\n",
       "      <td>1.248080</td>\n",
       "      <td>3.614452</td>\n",
       "      <td>8.411267</td>\n",
       "      <td>7.668467</td>\n",
       "      <td>-3.379905</td>\n",
       "      <td>5.890776</td>\n",
       "      <td>...</td>\n",
       "      <td>5.935044</td>\n",
       "      <td>3.038147</td>\n",
       "      <td>-3.379905</td>\n",
       "      <td>7.884081</td>\n",
       "      <td>-3.379905</td>\n",
       "      <td>7.163770</td>\n",
       "      <td>2.015644</td>\n",
       "      <td>-3.379905</td>\n",
       "      <td>2.332939</td>\n",
       "      <td>-3.379905</td>\n",
       "    </tr>\n",
       "    <tr>\n",
       "      <th>3</th>\n",
       "      <td>healthy</td>\n",
       "      <td>-3.632294</td>\n",
       "      <td>5.307481</td>\n",
       "      <td>5.897842</td>\n",
       "      <td>-3.632294</td>\n",
       "      <td>3.636733</td>\n",
       "      <td>6.261269</td>\n",
       "      <td>5.819509</td>\n",
       "      <td>4.064784</td>\n",
       "      <td>-3.632294</td>\n",
       "      <td>...</td>\n",
       "      <td>-3.632294</td>\n",
       "      <td>3.401043</td>\n",
       "      <td>3.295942</td>\n",
       "      <td>6.939669</td>\n",
       "      <td>1.234944</td>\n",
       "      <td>3.370701</td>\n",
       "      <td>-3.632294</td>\n",
       "      <td>-3.632294</td>\n",
       "      <td>-3.632294</td>\n",
       "      <td>3.089479</td>\n",
       "    </tr>\n",
       "    <tr>\n",
       "      <th>4</th>\n",
       "      <td>CRC</td>\n",
       "      <td>2.320322</td>\n",
       "      <td>-5.007660</td>\n",
       "      <td>4.759592</td>\n",
       "      <td>-1.450665</td>\n",
       "      <td>-5.007660</td>\n",
       "      <td>-0.026692</td>\n",
       "      <td>3.808831</td>\n",
       "      <td>4.253082</td>\n",
       "      <td>2.034727</td>\n",
       "      <td>...</td>\n",
       "      <td>-5.007660</td>\n",
       "      <td>5.167885</td>\n",
       "      <td>-5.007660</td>\n",
       "      <td>5.697435</td>\n",
       "      <td>1.727297</td>\n",
       "      <td>2.949174</td>\n",
       "      <td>2.203556</td>\n",
       "      <td>-5.007660</td>\n",
       "      <td>0.273296</td>\n",
       "      <td>3.893588</td>\n",
       "    </tr>\n",
       "  </tbody>\n",
       "</table>\n",
       "<p>5 rows × 41 columns</p>\n",
       "</div>"
      ],
      "text/plain": [
       "   disease  s__Parvimonas_micra  s__Roseburia_faecis  \\\n",
       "0  healthy            -3.441779            -3.441779   \n",
       "1  healthy            -3.929140             5.691656   \n",
       "2  healthy            -0.407520             7.383588   \n",
       "3  healthy            -3.632294             5.307481   \n",
       "4      CRC             2.320322            -5.007660   \n",
       "\n",
       "   s__Collinsella_aerofaciens  s__Actinomyces_sp_HMSC035G02  \\\n",
       "0                    6.576766                     -3.441779   \n",
       "1                    4.532923                     -3.929140   \n",
       "2                   -3.379905                      1.248080   \n",
       "3                    5.897842                     -3.632294   \n",
       "4                    4.759592                     -1.450665   \n",
       "\n",
       "   s__Roseburia_intestinalis  s__Bacteroides_plebeius  \\\n",
       "0                  -3.441779                10.262146   \n",
       "1                   6.393962                 7.609333   \n",
       "2                   3.614452                 8.411267   \n",
       "3                   3.636733                 6.261269   \n",
       "4                  -5.007660                -0.026692   \n",
       "\n",
       "   s__Faecalibacterium_prausnitzii  s__Eubacterium_eligens  \\\n",
       "0                         7.729839                7.605931   \n",
       "1                         6.654823                4.236672   \n",
       "2                         7.668467               -3.379905   \n",
       "3                         5.819509                4.064784   \n",
       "4                         3.808831                4.253082   \n",
       "\n",
       "   s__Ruminococcus_bicirculans  ...  s__Bacteroides_caccae  \\\n",
       "0                    -3.441779  ...              -3.441779   \n",
       "1                     4.372945  ...               3.844374   \n",
       "2                     5.890776  ...               5.935044   \n",
       "3                    -3.632294  ...              -3.632294   \n",
       "4                     2.034727  ...              -5.007660   \n",
       "\n",
       "   s__Alistipes_shahii  s__Fusobacterium_mortiferum  s__Bacteroides_dorei  \\\n",
       "0             0.667517                    -3.441779              8.532694   \n",
       "1             1.704619                    -3.929140              4.466872   \n",
       "2             3.038147                    -3.379905              7.884081   \n",
       "3             3.401043                     3.295942              6.939669   \n",
       "4             5.167885                    -5.007660              5.697435   \n",
       "\n",
       "   s__Bifidobacterium_pseudocatenulatum  s__Blautia_wexlerae  \\\n",
       "0                             -3.441779             6.386041   \n",
       "1                              3.229868             2.122180   \n",
       "2                             -3.379905             7.163770   \n",
       "3                              1.234944             3.370701   \n",
       "4                              1.727297             2.949174   \n",
       "\n",
       "   s__Haemophilus_parainfluenzae  s__Turicimonas_muris  \\\n",
       "0                       4.686443             -3.441779   \n",
       "1                       2.479674             -3.929140   \n",
       "2                       2.015644             -3.379905   \n",
       "3                      -3.632294             -3.632294   \n",
       "4                       2.203556             -5.007660   \n",
       "\n",
       "   s__Gemella_haemolysans  s__Bifidobacterium_longum  \n",
       "0               -3.441779                   6.717971  \n",
       "1               -3.929140                   4.429797  \n",
       "2                2.332939                  -3.379905  \n",
       "3               -3.632294                   3.089479  \n",
       "4                0.273296                   3.893588  \n",
       "\n",
       "[5 rows x 41 columns]"
      ]
     },
     "execution_count": 2,
     "metadata": {},
     "output_type": "execute_result"
    }
   ],
   "source": [
    "'''\n",
    "# raw data\n",
    "data_df = pd.read_table('./dataset/MergeData.tsv', sep=\"\\t\", index_col=0)\n",
    "data = data_df.reset_index(drop=True)\n",
    "data.head()\n",
    "\n",
    "# CLR-transformed data\n",
    "data_df = pd.read_table('./dataset/MergeData_clr.tsv', sep=\"\\t\", index_col=0)\n",
    "data = data_df.reset_index(drop=True)\n",
    "data.head()\n",
    "'''\n",
    "\n",
    "# significant species\n",
    "data_df = pd.read_table('./dataset/MergeData_clr_signif.tsv', sep=\"\\t\", index_col=0)\n",
    "data = data_df.reset_index(drop=True)\n",
    "data.head()"
   ]
  },
  {
   "cell_type": "code",
   "execution_count": 3,
   "metadata": {},
   "outputs": [],
   "source": [
    "#Assign predictors to a variable of ndarray (matrix) type\n",
    "array = data.values\n",
    "X = array[:, 1:data.shape[1]] # features\n",
    "y = array[:, 0]\n",
    "\n",
    "#transform the class labels from their original string representation (CRC and healthy) into integers\n",
    "le = LabelEncoder()\n",
    "y = le.fit_transform(y)\n",
    "\n",
    "# Normalize the  data (center around 0 and scale to remove the variance).\n",
    "scaler = StandardScaler()\n",
    "Xs = scaler.fit_transform(X)"
   ]
  },
  {
   "cell_type": "markdown",
   "metadata": {},
   "source": [
    "## Classification with cross-validation\n",
    "\n",
    "As discussed in notebook **Pre-Processing the data** splitting the data into test and training sets is crucial to avoid overfitting. This allows generalization of real, previously-unseen data. Cross-validation extends this idea further. Instead of having a single train/test split, we specify **so-called folds** so that the data is divided into similarly-sized folds. \n",
    "\n",
    "* Training occurs by taking all folds except one – referred to as the holdout sample. \n",
    "* On the completion of the training, you test the performance of your fitted model using the holdout sample. \n",
    "\n",
    "* The holdout sample is then thrown back with the rest of the other folds, and a different fold is pulled out as the new holdout sample. \n",
    "\n",
    "* Training is repeated again with the remaining folds and we measure performance using the holdout sample. This process is repeated until each fold has had a chance to be a test or holdout sample. \n",
    "\n",
    "* The expected performance of the classifier, called cross-validation error, is then simply an average of error rates computed on each holdout sample. \n",
    "\n",
    "This process is demonstrated by first performing a standard train/test split, and then computing cross-validation error."
   ]
  },
  {
   "cell_type": "code",
   "execution_count": 4,
   "metadata": {},
   "outputs": [
    {
     "name": "stdout",
     "output_type": "stream",
     "text": [
      "\n",
      "The classifier accuracy score is 0.66\n",
      "\n"
     ]
    }
   ],
   "source": [
    "# 5. Divide records in training and testing sets.\n",
    "X_train, X_test, y_train, y_test = train_test_split(Xs, y, test_size=0.3, random_state=2, stratify=y)\n",
    "\n",
    "# 6. Create an SVM classifier and train it on 70% of the data set.\n",
    "clf = SVC(probability=True)\n",
    "clf.fit(X_train, y_train)\n",
    "\n",
    " #7. Analyze accuracy of predictions on 30% of the holdout test sample.\n",
    "classifier_score = clf.score(X_test, y_test)\n",
    "print('\\nThe classifier accuracy score is {:03.2f}\\n'.format(classifier_score))"
   ]
  },
  {
   "cell_type": "markdown",
   "metadata": {},
   "source": [
    "To get a better measure of prediction accuracy (which you can use as a proxy for “goodness of fit” of the model), you can successively split the data into folds that you will use for training and testing:"
   ]
  },
  {
   "cell_type": "code",
   "execution_count": 5,
   "metadata": {},
   "outputs": [
    {
     "name": "stdout",
     "output_type": "stream",
     "text": [
      "\n",
      "The 5-fold cross-validation accuracy score for this classifier is 0.70\n",
      "\n"
     ]
    }
   ],
   "source": [
    "# Get average of 5-fold cross-validation score using an SVC estimator.\n",
    "n_folds = 5\n",
    "cv_error = np.average(cross_val_score(SVC(), Xs, y, cv=n_folds))\n",
    "print('\\nThe {}-fold cross-validation accuracy score for this classifier is {:.2f}\\n'.format(n_folds, cv_error))"
   ]
  },
  {
   "cell_type": "markdown",
   "metadata": {},
   "source": [
    "The above evaluations were based on using the entire set of features. You will now employ the correlation-based feature selection strategy to assess the effect of using 40 features which have the best correlation with the class labels."
   ]
  },
  {
   "cell_type": "code",
   "execution_count": 6,
   "metadata": {},
   "outputs": [
    {
     "name": "stdout",
     "output_type": "stream",
     "text": [
      "\n",
      "The 5-fold cross-validation accuracy score for this classifier is 0.70\n",
      "\n"
     ]
    }
   ],
   "source": [
    "from sklearn.feature_selection import SelectKBest, f_regression\n",
    "\n",
    "clf2 = make_pipeline(SelectKBest(f_regression, k=40), SVC(probability=True))\n",
    "\n",
    "scores = cross_val_score(clf2, Xs, y, cv=5)\n",
    "\n",
    "# Get average of 5-fold cross-validation score using an SVC estimator.\n",
    "n_folds = 5\n",
    "cv_error = np.average(cross_val_score(SVC(), Xs, y, cv=n_folds))\n",
    "print('\\nThe {}-fold cross-validation accuracy score for this classifier is {:.2f}\\n'.format(n_folds, cv_error))"
   ]
  },
  {
   "cell_type": "code",
   "execution_count": 7,
   "metadata": {},
   "outputs": [
    {
     "name": "stdout",
     "output_type": "stream",
     "text": [
      "[0.6039604  0.72277228 0.71287129 0.7029703  0.77      ]\n",
      "Average score and uncertainty: (70.25 +- 2.432)%\n"
     ]
    }
   ],
   "source": [
    "print(scores)\n",
    "avg = (100*np.mean(scores), 100*np.std(scores)/np.sqrt(scores.shape[0]))\n",
    "print(\"Average score and uncertainty: (%.2f +- %.3f)%%\"%avg)"
   ]
  },
  {
   "cell_type": "markdown",
   "metadata": {},
   "source": [
    "From the above results, you can see that only a fraction of the features are required to build a model that performs similarly to models based on using the entire set of features.\n",
    "Feature selection is an important part of the model-building process that you must always pay particular attention to. The details are beyond the scope of this notebook. In the rest of the analysis, you will continue using the entire set of features.\n"
   ]
  },
  {
   "cell_type": "markdown",
   "metadata": {},
   "source": [
    "## Model Accuracy: Receiver Operating Characteristic (ROC) curve\n",
    "\n",
    "In statistical modeling and machine learning, a commonly-reported performance measure of model accuracy for binary classification problems is Area Under the Curve (AUC).\n",
    "\n",
    "To understand what information the ROC curve conveys, consider the so-called confusion matrix that essentially is a two-dimensional table where the classifier model is on one axis (vertical), and ground truth is on the other (horizontal) axis, as shown below. Either of these axes can take two values (as depicted)\n"
   ]
  },
  {
   "cell_type": "markdown",
   "metadata": {},
   "source": [
    " Model says \"+\" |Model says  \"-\" \n",
    "--- | --- | ---\n",
    "`True positive` | `False negative` | ** Actual: \"+\" **\n",
    " `False positive`  | `True negative` |  Actual: \"-\"\n",
    "\n",
    " In an ROC curve, you plot “True Positive Rate” on the Y-axis and “False Positive Rate” on the X-axis, where the values “true positive”, “false negative”, “false positive”, and “true negative” are events (or their probabilities) as described above. The rates are defined according to the following:\n",
    "\n",
    "> * True positive rate (or sensitivity)}: tpr = tp / (tp + fn)\n",
    "> * False positive rate: fpr = fp / (fp + tn)\n",
    "> * True negative rate (or specificity): tnr = tn / (fp + tn)\n",
    "\n",
    "In all definitions, the denominator is a row margin in the above confusion matrix. Thus,one can  express\n",
    "\n",
    "* the true positive rate (tpr) as the probability that the model says \"+\" when the real value is indeed \"+\" (i.e., a conditional probability). However, this does not tell you how likely you are to be correct when calling \"+\" (i.e., the probability of a true positive, conditioned on the test result being \"+\").\n",
    "          "
   ]
  },
  {
   "cell_type": "code",
   "execution_count": 8,
   "metadata": {},
   "outputs": [
    {
     "name": "stdout",
     "output_type": "stream",
     "text": [
      "[[49 29]\n",
      " [22 52]]\n"
     ]
    }
   ],
   "source": [
    "# The confusion matrix helps visualize the performance of the algorithm.\n",
    "y_pred = clf.fit(X_train, y_train).predict(X_test)\n",
    "cm = metrics.confusion_matrix(y_test, y_pred)\n",
    "print(cm)"
   ]
  },
  {
   "cell_type": "code",
   "execution_count": 9,
   "metadata": {},
   "outputs": [
    {
     "data": {
      "image/png": "[encoded data removed]",
      "text/plain": [
       "<Figure size 500x500 with 1 Axes>"
      ]
     },
     "metadata": {},
     "output_type": "display_data"
    },
    {
     "name": "stdout",
     "output_type": "stream",
     "text": [
      "              precision    recall  f1-score   support\n",
      "\n",
      "           0       0.69      0.63      0.66        78\n",
      "           1       0.64      0.70      0.67        74\n",
      "\n",
      "    accuracy                           0.66       152\n",
      "   macro avg       0.67      0.67      0.66       152\n",
      "weighted avg       0.67      0.66      0.66       152\n",
      "\n"
     ]
    }
   ],
   "source": [
    "%matplotlib inline\n",
    "\n",
    "import matplotlib.pyplot as plt\n",
    "from IPython.display import Image, display\n",
    "\n",
    "fig, ax = plt.subplots(figsize=(5, 5))\n",
    "ax.matshow(cm, cmap=plt.cm.Reds, alpha=0.3)\n",
    "for i in range(cm.shape[0]):\n",
    "     for j in range(cm.shape[1]):\n",
    "         ax.text(x=j, y=i,\n",
    "                s=cm[i, j], \n",
    "                va='center', ha='center')\n",
    "plt.xlabel('Predicted Values', )\n",
    "plt.ylabel('Actual Values')\n",
    "plt.show()\n",
    "print(classification_report(y_test, y_pred))"
   ]
  },
  {
   "cell_type": "markdown",
   "metadata": {},
   "source": [
    "### Observation \n",
    "\n",
    "There are two possible predicted classes: \"1\" and \"0\". CRC = 1 and healthy = 0.\n",
    "\n",
    "* The classifier made a total of 148 predictions.\n",
    "* Out of those 148 cases, the classifier predicted \"yes\" 27 times, and \"no\" 37 times.\n",
    "* In reality, 30 patients in the sample have the disease, and 34 patients do not.\n",
    "\n",
    "#### Rates as computed from the confusion matrix\n",
    "\n",
    "1. **Accuracy**: Overall, how often is the classifier correct?\n",
    "    * (TP+TN)/total = (14+21)/64 = 0.55\n",
    "\n",
    "2. **Misclassification Rate**: Overall, how often is it wrong?\n",
    "    * (FP+FN)/total = (13+16)/64 = 0.45 equivalent to 1 minus Accuracy also known as ***\"Error Rate\"***\n",
    "\n",
    "3. **True Positive Rate:** When it's actually yes, how often does it predict 1?\n",
    "   * TP/actual yes = 14/30 = 0.47 also known as \"Sensitivity\" or ***\"Recall\"***\n",
    "\n",
    "4. **False Positive Rate**: When it's actually 0, how often does it predict 1?\n",
    "   * FP/actual no = 16/37 = 0.43\n",
    "\n",
    "5. **Specificity**: When it's actually 0, how often does it predict 0? also know as **true positive rate**\n",
    "   * TN/actual no = 21/37 = 0.57 equivalent to 1 minus False Positive Rate\n",
    "\n",
    "6. **Precision**: When it predicts 1, how often is it correct?\n",
    "   * TP/predicted yes = 14/27 = 0.52\n",
    "\n",
    "7. **Prevalence**: How often does the yes condition actually occur in our sample?\n",
    "   * actual yes/total = 30/64 = 0.47\n",
    "\n"
   ]
  },
  {
   "cell_type": "code",
   "execution_count": 10,
   "metadata": {},
   "outputs": [
    {
     "data": {
      "image/png": "[encoded data removed]",
      "text/plain": [
       "<Figure size 1000x800 with 1 Axes>"
      ]
     },
     "metadata": {},
     "output_type": "display_data"
    }
   ],
   "source": [
    "from sklearn.metrics import roc_curve, auc\n",
    "\n",
    "# Plot the receiver operating characteristic curve (ROC).\n",
    "plt.figure(figsize=(10, 8))\n",
    "\n",
    "probas_ = clf.predict_proba(X_test)\n",
    "fpr, tpr, thresholds = roc_curve(y_test, probas_[:, 1])\n",
    "roc_auc = auc(fpr, tpr)\n",
    "plt.plot(fpr, tpr, lw=1, label='ROC Curve (area = %0.2f)' % (roc_auc))\n",
    "plt.plot([0, 1], [0, 1], '--', color=(0.6, 0.6, 0.6), label='Random')\n",
    "plt.xlim([-0.05, 1.05])\n",
    "plt.ylim([-0.05, 1.05])\n",
    "plt.xlabel('False Positive Rate')\n",
    "plt.ylabel('True Positive Rate')\n",
    "plt.legend(loc='best')\n",
    "plt.show()"
   ]
  },
  {
   "cell_type": "markdown",
   "metadata": {},
   "source": [
    "* To interpret the ROC correctly, consider what the points that lie along the diagonal represent. For these situations, there is an equal chance of \"+\" and \"-\" happening. Therefore, this is not that different from making a prediction by tossing of an unbiased coin. Put simply, the classification model is random.\n",
    "\n",
    "* For the points above the diagonal, tpr > fpr, and the model says that you are in a zone where you are performing better than random. For example, assume tpr = 0.99 and fpr = 0.01, Then, the probability of being in the true positive group is $(0.99 / (0.99 + 0.01)) = 99\\%$. Furthermore, holding fpr constant, it is easy to see that the more vertically above the diagonal you are positioned, the better the classification model."
   ]
  },
  {
   "cell_type": "markdown",
   "metadata": {},
   "source": [
    "## Reference\n",
    "\n",
    "* [Breast-cancer-risk-prediction](https://github.com/Jean-njoroge/Breast-cancer-risk-prediction)\n",
    "* Cortes, Corinna, and Vladimir Vapnik. 1995. “Support-Vector Networks.” Machine Learning 20: 273. Accessed September 3, 2016. doi: 10.1023/A:1022627411411.\n"
   ]
  }
 ],
 "metadata": {
  "anaconda-cloud": {},
  "kernelspec": {
   "display_name": "Python 3.9.12 ('base')",
   "language": "python",
   "name": "python3"
  },
  "language_info": {
   "codemirror_mode": {
    "name": "ipython",
    "version": 3
   },
   "file_extension": ".py",
   "mimetype": "text/x-python",
   "name": "python",
   "nbconvert_exporter": "python",
   "pygments_lexer": "ipython3",
   "version": "3.9.13"
  },
  "vscode": {
   "interpreter": {
    "hash": "0ec017f2708b93ad90d641b3135f4132278030d3f63842d53608a2729796a5d1"
   }
  }
 },
 "nbformat": 4,
 "nbformat_minor": 4
}
