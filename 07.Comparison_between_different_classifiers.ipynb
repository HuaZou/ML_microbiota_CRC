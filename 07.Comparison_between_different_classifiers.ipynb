{
 "cells": [
  {
   "cell_type": "markdown",
   "metadata": {
    "nbpresent": {
     "id": "b1daa992-4a28-496f-b325-6e8be1a7844c"
    },
    "slideshow": {
     "slide_type": "slide"
    }
   },
   "source": [
    "# Machine Learning on gut microbiota of patients with Colorectal cancer (8): Comparison between different classifiers\n",
    "\n",
    "There are standard workflows in a machine learning project that can be automated. In Python scikit-learn, Pipelines help to clearly define and automate these workflows.\n",
    "* Pipelines help overcome common problems like data leakage in your test harness. \n",
    "* Python scikit-learn provides a Pipeline utility to help automate machine learning workflows.\n",
    "* Pipelines work by allowing for a linear sequence of data transforms to be chained together culminating in a modeling process that can be evaluated.\n",
    "\n",
    "## Loading libraries"
   ]
  },
  {
   "cell_type": "code",
   "execution_count": 1,
   "metadata": {},
   "outputs": [],
   "source": [
    "%matplotlib inline\n",
    "import matplotlib.pyplot as plt\n",
    "\n",
    "# Create a pipeline that standardizes the data then creates a model\n",
    "#Load libraries for data processing\n",
    "import pandas as pd \n",
    "import numpy as np\n",
    "from scipy.stats import norm\n",
    "\n",
    "from sklearn.model_selection import train_test_split, KFold\n",
    "#from sklearn.cross_validation import cross_val_score, KFold\n",
    "from sklearn.model_selection import cross_val_score\n",
    "from sklearn.preprocessing import LabelEncoder\n",
    "from sklearn.preprocessing import StandardScaler\n",
    "from sklearn.decomposition import PCA\n",
    "\n",
    "from sklearn.pipeline import Pipeline\n",
    "from sklearn.model_selection import GridSearchCV\n",
    "\n",
    "from sklearn.linear_model import LogisticRegression\n",
    "from sklearn.tree import DecisionTreeClassifier\n",
    "from sklearn.neighbors import KNeighborsClassifier\n",
    "from sklearn.discriminant_analysis import LinearDiscriminantAnalysis\n",
    "from sklearn.naive_bayes import GaussianNB\n",
    "from sklearn.svm import SVC\n",
    "from sklearn.metrics import confusion_matrix\n",
    "from sklearn.metrics import accuracy_score\n",
    "from sklearn.metrics import classification_report\n",
    "\n",
    "# visualization\n",
    "import seaborn as sns \n",
    "plt.style.use('fivethirtyeight')\n",
    "sns.set_style(\"white\")\n",
    "\n",
    "plt.rcParams['figure.figsize'] = (8,4) \n",
    "#plt.rcParams['axes.titlesize'] = 'large'"
   ]
  },
  {
   "cell_type": "markdown",
   "metadata": {},
   "source": [
    "## Importing data"
   ]
  },
  {
   "cell_type": "code",
   "execution_count": 2,
   "metadata": {},
   "outputs": [
    {
     "data": {
      "text/html": [
       "<div>\n",
       "<style scoped>\n",
       "    .dataframe tbody tr th:only-of-type {\n",
       "        vertical-align: middle;\n",
       "    }\n",
       "\n",
       "    .dataframe tbody tr th {\n",
       "        vertical-align: top;\n",
       "    }\n",
       "\n",
       "    .dataframe thead th {\n",
       "        text-align: right;\n",
       "    }\n",
       "</style>\n",
       "<table border=\"1\" class=\"dataframe\">\n",
       "  <thead>\n",
       "    <tr style=\"text-align: right;\">\n",
       "      <th></th>\n",
       "      <th>disease</th>\n",
       "      <th>s__Parvimonas_micra</th>\n",
       "      <th>s__Roseburia_faecis</th>\n",
       "      <th>s__Collinsella_aerofaciens</th>\n",
       "      <th>s__Actinomyces_sp_HMSC035G02</th>\n",
       "      <th>s__Roseburia_intestinalis</th>\n",
       "      <th>s__Bacteroides_plebeius</th>\n",
       "      <th>s__Faecalibacterium_prausnitzii</th>\n",
       "      <th>s__Eubacterium_eligens</th>\n",
       "      <th>s__Ruminococcus_bicirculans</th>\n",
       "      <th>...</th>\n",
       "      <th>s__Bacteroides_caccae</th>\n",
       "      <th>s__Alistipes_shahii</th>\n",
       "      <th>s__Fusobacterium_mortiferum</th>\n",
       "      <th>s__Bacteroides_dorei</th>\n",
       "      <th>s__Bifidobacterium_pseudocatenulatum</th>\n",
       "      <th>s__Blautia_wexlerae</th>\n",
       "      <th>s__Haemophilus_parainfluenzae</th>\n",
       "      <th>s__Turicimonas_muris</th>\n",
       "      <th>s__Gemella_haemolysans</th>\n",
       "      <th>s__Bifidobacterium_longum</th>\n",
       "    </tr>\n",
       "  </thead>\n",
       "  <tbody>\n",
       "    <tr>\n",
       "      <th>0</th>\n",
       "      <td>healthy</td>\n",
       "      <td>-3.441779</td>\n",
       "      <td>-3.441779</td>\n",
       "      <td>6.576766</td>\n",
       "      <td>-3.441779</td>\n",
       "      <td>-3.441779</td>\n",
       "      <td>10.262146</td>\n",
       "      <td>7.729839</td>\n",
       "      <td>7.605931</td>\n",
       "      <td>-3.441779</td>\n",
       "      <td>...</td>\n",
       "      <td>-3.441779</td>\n",
       "      <td>0.667517</td>\n",
       "      <td>-3.441779</td>\n",
       "      <td>8.532694</td>\n",
       "      <td>-3.441779</td>\n",
       "      <td>6.386041</td>\n",
       "      <td>4.686443</td>\n",
       "      <td>-3.441779</td>\n",
       "      <td>-3.441779</td>\n",
       "      <td>6.717971</td>\n",
       "    </tr>\n",
       "    <tr>\n",
       "      <th>1</th>\n",
       "      <td>healthy</td>\n",
       "      <td>-3.929140</td>\n",
       "      <td>5.691656</td>\n",
       "      <td>4.532923</td>\n",
       "      <td>-3.929140</td>\n",
       "      <td>6.393962</td>\n",
       "      <td>7.609333</td>\n",
       "      <td>6.654823</td>\n",
       "      <td>4.236672</td>\n",
       "      <td>4.372945</td>\n",
       "      <td>...</td>\n",
       "      <td>3.844374</td>\n",
       "      <td>1.704619</td>\n",
       "      <td>-3.929140</td>\n",
       "      <td>4.466872</td>\n",
       "      <td>3.229868</td>\n",
       "      <td>2.122180</td>\n",
       "      <td>2.479674</td>\n",
       "      <td>-3.929140</td>\n",
       "      <td>-3.929140</td>\n",
       "      <td>4.429797</td>\n",
       "    </tr>\n",
       "    <tr>\n",
       "      <th>2</th>\n",
       "      <td>healthy</td>\n",
       "      <td>-0.407520</td>\n",
       "      <td>7.383588</td>\n",
       "      <td>-3.379905</td>\n",
       "      <td>1.248080</td>\n",
       "      <td>3.614452</td>\n",
       "      <td>8.411267</td>\n",
       "      <td>7.668467</td>\n",
       "      <td>-3.379905</td>\n",
       "      <td>5.890776</td>\n",
       "      <td>...</td>\n",
       "      <td>5.935044</td>\n",
       "      <td>3.038147</td>\n",
       "      <td>-3.379905</td>\n",
       "      <td>7.884081</td>\n",
       "      <td>-3.379905</td>\n",
       "      <td>7.163770</td>\n",
       "      <td>2.015644</td>\n",
       "      <td>-3.379905</td>\n",
       "      <td>2.332939</td>\n",
       "      <td>-3.379905</td>\n",
       "    </tr>\n",
       "    <tr>\n",
       "      <th>3</th>\n",
       "      <td>healthy</td>\n",
       "      <td>-3.632294</td>\n",
       "      <td>5.307481</td>\n",
       "      <td>5.897842</td>\n",
       "      <td>-3.632294</td>\n",
       "      <td>3.636733</td>\n",
       "      <td>6.261269</td>\n",
       "      <td>5.819509</td>\n",
       "      <td>4.064784</td>\n",
       "      <td>-3.632294</td>\n",
       "      <td>...</td>\n",
       "      <td>-3.632294</td>\n",
       "      <td>3.401043</td>\n",
       "      <td>3.295942</td>\n",
       "      <td>6.939669</td>\n",
       "      <td>1.234944</td>\n",
       "      <td>3.370701</td>\n",
       "      <td>-3.632294</td>\n",
       "      <td>-3.632294</td>\n",
       "      <td>-3.632294</td>\n",
       "      <td>3.089479</td>\n",
       "    </tr>\n",
       "    <tr>\n",
       "      <th>4</th>\n",
       "      <td>CRC</td>\n",
       "      <td>2.320322</td>\n",
       "      <td>-5.007660</td>\n",
       "      <td>4.759592</td>\n",
       "      <td>-1.450665</td>\n",
       "      <td>-5.007660</td>\n",
       "      <td>-0.026692</td>\n",
       "      <td>3.808831</td>\n",
       "      <td>4.253082</td>\n",
       "      <td>2.034727</td>\n",
       "      <td>...</td>\n",
       "      <td>-5.007660</td>\n",
       "      <td>5.167885</td>\n",
       "      <td>-5.007660</td>\n",
       "      <td>5.697435</td>\n",
       "      <td>1.727297</td>\n",
       "      <td>2.949174</td>\n",
       "      <td>2.203556</td>\n",
       "      <td>-5.007660</td>\n",
       "      <td>0.273296</td>\n",
       "      <td>3.893588</td>\n",
       "    </tr>\n",
       "  </tbody>\n",
       "</table>\n",
       "<p>5 rows × 41 columns</p>\n",
       "</div>"
      ],
      "text/plain": [
       "   disease  s__Parvimonas_micra  s__Roseburia_faecis  \\\n",
       "0  healthy            -3.441779            -3.441779   \n",
       "1  healthy            -3.929140             5.691656   \n",
       "2  healthy            -0.407520             7.383588   \n",
       "3  healthy            -3.632294             5.307481   \n",
       "4      CRC             2.320322            -5.007660   \n",
       "\n",
       "   s__Collinsella_aerofaciens  s__Actinomyces_sp_HMSC035G02  \\\n",
       "0                    6.576766                     -3.441779   \n",
       "1                    4.532923                     -3.929140   \n",
       "2                   -3.379905                      1.248080   \n",
       "3                    5.897842                     -3.632294   \n",
       "4                    4.759592                     -1.450665   \n",
       "\n",
       "   s__Roseburia_intestinalis  s__Bacteroides_plebeius  \\\n",
       "0                  -3.441779                10.262146   \n",
       "1                   6.393962                 7.609333   \n",
       "2                   3.614452                 8.411267   \n",
       "3                   3.636733                 6.261269   \n",
       "4                  -5.007660                -0.026692   \n",
       "\n",
       "   s__Faecalibacterium_prausnitzii  s__Eubacterium_eligens  \\\n",
       "0                         7.729839                7.605931   \n",
       "1                         6.654823                4.236672   \n",
       "2                         7.668467               -3.379905   \n",
       "3                         5.819509                4.064784   \n",
       "4                         3.808831                4.253082   \n",
       "\n",
       "   s__Ruminococcus_bicirculans  ...  s__Bacteroides_caccae  \\\n",
       "0                    -3.441779  ...              -3.441779   \n",
       "1                     4.372945  ...               3.844374   \n",
       "2                     5.890776  ...               5.935044   \n",
       "3                    -3.632294  ...              -3.632294   \n",
       "4                     2.034727  ...              -5.007660   \n",
       "\n",
       "   s__Alistipes_shahii  s__Fusobacterium_mortiferum  s__Bacteroides_dorei  \\\n",
       "0             0.667517                    -3.441779              8.532694   \n",
       "1             1.704619                    -3.929140              4.466872   \n",
       "2             3.038147                    -3.379905              7.884081   \n",
       "3             3.401043                     3.295942              6.939669   \n",
       "4             5.167885                    -5.007660              5.697435   \n",
       "\n",
       "   s__Bifidobacterium_pseudocatenulatum  s__Blautia_wexlerae  \\\n",
       "0                             -3.441779             6.386041   \n",
       "1                              3.229868             2.122180   \n",
       "2                             -3.379905             7.163770   \n",
       "3                              1.234944             3.370701   \n",
       "4                              1.727297             2.949174   \n",
       "\n",
       "   s__Haemophilus_parainfluenzae  s__Turicimonas_muris  \\\n",
       "0                       4.686443             -3.441779   \n",
       "1                       2.479674             -3.929140   \n",
       "2                       2.015644             -3.379905   \n",
       "3                      -3.632294             -3.632294   \n",
       "4                       2.203556             -5.007660   \n",
       "\n",
       "   s__Gemella_haemolysans  s__Bifidobacterium_longum  \n",
       "0               -3.441779                   6.717971  \n",
       "1               -3.929140                   4.429797  \n",
       "2                2.332939                  -3.379905  \n",
       "3               -3.632294                   3.089479  \n",
       "4                0.273296                   3.893588  \n",
       "\n",
       "[5 rows x 41 columns]"
      ]
     },
     "execution_count": 2,
     "metadata": {},
     "output_type": "execute_result"
    }
   ],
   "source": [
    "'''\n",
    "# raw data\n",
    "data_df = pd.read_table('./dataset/MergeData.tsv', sep=\"\\t\", index_col=0)\n",
    "data = data_df.reset_index(drop=True)\n",
    "data.head()\n",
    "\n",
    "# CLR-transformed data\n",
    "data_df = pd.read_table('./dataset/MergeData_clr.tsv', sep=\"\\t\", index_col=0)\n",
    "data = data_df.reset_index(drop=True)\n",
    "data.head()\n",
    "'''\n",
    "\n",
    "# significant species\n",
    "data_df = pd.read_table('./dataset/MergeData_clr_signif.tsv', sep=\"\\t\", index_col=0)\n",
    "data = data_df.reset_index(drop=True)\n",
    "data.head()"
   ]
  },
  {
   "cell_type": "markdown",
   "metadata": {},
   "source": [
    "## Evaluate Some Algorithms\n",
    "Now it is time to create some models of the data and estimate their accuracy on unseen data. Here is what we are going to cover in this step:\n",
    "1. Separate out a validation dataset.\n",
    "2. Setup the test harness to use 10-fold cross validation.\n",
    "3. Build 5 different models  \n",
    "4. Select the best model\n",
    "\n",
    "## Validation Dataset"
   ]
  },
  {
   "cell_type": "code",
   "execution_count": 3,
   "metadata": {
    "tags": []
   },
   "outputs": [],
   "source": [
    "# Split-out validation dataset\n",
    "array = data.values\n",
    "X = array[:, 1:data.shape[1]]\n",
    "y = array[:, 0]\n",
    "\n",
    "# Divide records in training and testing sets.\n",
    "X_train, X_test, y_train, y_test = train_test_split(X, y, test_size=0.3, random_state=7)\n",
    "\n",
    "#transform the class labels from their original string representation (CRC and healthy) into integers\n",
    "le = LabelEncoder()\n",
    "y = le.fit_transform(y)"
   ]
  },
  {
   "cell_type": "markdown",
   "metadata": {},
   "source": [
    "## Evaluate Algorithms: Baseline"
   ]
  },
  {
   "cell_type": "code",
   "execution_count": 4,
   "metadata": {},
   "outputs": [
    {
     "name": "stdout",
     "output_type": "stream",
     "text": [
      "LR: 0.682063 (0.099066)\n",
      "LDA: 0.684921 (0.101168)\n",
      "KNN: 0.585079 (0.080096)\n",
      "CART: 0.616825 (0.057095)\n",
      "NB: 0.690873 (0.105033)\n",
      "SVM: 0.679286 (0.076846)\n",
      "-> 10-Fold cross-validation accurcay score for the training data for six classifiers\n"
     ]
    }
   ],
   "source": [
    "# turn off warnings\n",
    "import warnings\n",
    "\n",
    "def action_with_warnings():\n",
    "    warnings.warn(\"forbid warnings' display\")\n",
    "\n",
    "with warnings.catch_warnings(record=True):\n",
    "    action_with_warnings()\n",
    "\n",
    "# Spot-Check Algorithms\n",
    "models = []\n",
    "models.append(( 'LR' , LogisticRegression()))\n",
    "models.append(( 'LDA' , LinearDiscriminantAnalysis()))\n",
    "models.append(( 'KNN' , KNeighborsClassifier()))\n",
    "models.append(( 'CART' , DecisionTreeClassifier()))\n",
    "models.append(( 'NB' , GaussianNB()))\n",
    "models.append(( 'SVM' , SVC()))\n",
    "\n",
    "# Test options and evaluation metric\n",
    "num_folds = 10\n",
    "num_instances = len(X_train)\n",
    "seed = 7 \n",
    "scoring =  'accuracy'\n",
    "\n",
    "# Test options and evaluation metric\n",
    "num_folds = 10\n",
    "num_instances = len(X_train)\n",
    "seed = 7 \n",
    "scoring = 'accuracy'\n",
    "results = []\n",
    "names = []\n",
    "for name, model in models:\n",
    "    #kfold = KFold(n=num_instances, n_folds=num_folds, random_state=seed)\n",
    "    kfold = KFold(n_splits=num_folds, random_state=seed, shuffle=True)\n",
    "    cv_results = cross_val_score(model, X=X_train, y=y_train, cv=kfold, scoring=scoring)\n",
    "    results.append(cv_results)\n",
    "    names.append(name)\n",
    "    msg = \"%s: %f (%f)\" % (name, cv_results.mean(), cv_results.std())\n",
    "    print(msg)\n",
    "print('-> 10-Fold cross-validation accurcay score for the training data for six classifiers') "
   ]
  },
  {
   "cell_type": "markdown",
   "metadata": {},
   "source": [
    "### Observation\n",
    "> The results suggest That both GaussianNB and SVM may be worth further study. These are just mean accuracy values. It is always wise to look at the distribution of accuracy values calculated across cross validation folds. We can do that graphically using box and whisker plots.\n"
   ]
  },
  {
   "cell_type": "code",
   "execution_count": 5,
   "metadata": {},
   "outputs": [
    {
     "data": {
      "image/png": "[encoded data removed]",
      "text/plain": [
       "<Figure size 800x400 with 1 Axes>"
      ]
     },
     "metadata": {},
     "output_type": "display_data"
    }
   ],
   "source": [
    "# Compare Algorithms\n",
    "fig = plt.figure()\n",
    "fig.suptitle( 'Algorithm Comparison' )\n",
    "ax = fig.add_subplot(111)\n",
    "plt.boxplot(results)\n",
    "ax.set_xticklabels(names)\n",
    "plt.show()"
   ]
  },
  {
   "cell_type": "markdown",
   "metadata": {},
   "source": [
    "### Observation\n",
    "> The results show a similar tight distribution for all classifiers except KNN which is encouraging, suggesting low variance.\n",
    "\n",
    "> It is possible the varied distribution of the attributes may have an effect on the accuracy of algorithms such as LR, LDA and KNN. In the next section we will repeat this spot-check with a standardized copy of the training dataset.\n",
    "\n",
    "\n",
    "### Evaluate Algorithms: Standardize Data"
   ]
  },
  {
   "cell_type": "code",
   "execution_count": 6,
   "metadata": {},
   "outputs": [
    {
     "name": "stdout",
     "output_type": "stream",
     "text": [
      "ScaledLR: 0.682063 (0.099066)\n",
      "ScaledLDA: 0.684921 (0.101168)\n",
      "ScaledKNN: 0.585476 (0.076252)\n",
      "ScaledCART: 0.622222 (0.066893)\n",
      "ScaledNB: 0.690873 (0.105033)\n",
      "ScaledSVM: 0.687619 (0.085907)\n"
     ]
    }
   ],
   "source": [
    "# Standardize the dataset\n",
    "pipelines = []\n",
    "pipelines.append(( 'ScaledLR' , Pipeline([( 'Scaler' , StandardScaler()),( 'LR' ,\n",
    "    LogisticRegression())])))\n",
    "pipelines.append(( 'ScaledLDA' , Pipeline([( 'Scaler' , StandardScaler()),( 'LDA' ,\n",
    "    LinearDiscriminantAnalysis())])))\n",
    "pipelines.append(( 'ScaledKNN' , Pipeline([( 'Scaler' , StandardScaler()),( 'KNN' ,\n",
    "    KNeighborsClassifier())])))\n",
    "pipelines.append(( 'ScaledCART' , Pipeline([( 'Scaler' , StandardScaler()),( 'CART' ,\n",
    "    DecisionTreeClassifier())])))\n",
    "pipelines.append(( 'ScaledNB' , Pipeline([( 'Scaler' , StandardScaler()),( 'NB' ,\n",
    "    GaussianNB())])))\n",
    "pipelines.append(( 'ScaledSVM' , Pipeline([( 'Scaler' , StandardScaler()),( 'SVM' , SVC())])))\n",
    "\n",
    "results = []\n",
    "names = []\n",
    "for name, model in pipelines:\n",
    "    #kfold = KFold(n=num_instances, n_folds=num_folds, random_state=seed)\n",
    "    kfold = KFold(n_splits=num_folds, random_state=seed, shuffle=True)\n",
    "    cv_results = cross_val_score(model, X_train, y_train, cv=kfold, scoring=scoring)\n",
    "    results.append(cv_results)\n",
    "    names.append(name)\n",
    "    msg = \"%s: %f (%f)\" % (name, cv_results.mean(), cv_results.std())\n",
    "    print(msg)"
   ]
  },
  {
   "cell_type": "code",
   "execution_count": 7,
   "metadata": {},
   "outputs": [
    {
     "data": {
      "image/png": "[encoded data removed]",
      "text/plain": [
       "<Figure size 800x400 with 1 Axes>"
      ]
     },
     "metadata": {},
     "output_type": "display_data"
    }
   ],
   "source": [
    "# Compare Algorithms\n",
    "fig = plt.figure()\n",
    "fig.suptitle( 'Scaled Algorithm Comparison' )\n",
    "ax = fig.add_subplot(111)\n",
    "plt.boxplot(results)\n",
    "ax.set_xticklabels(names)\n",
    "plt.show()"
   ]
  },
  {
   "cell_type": "markdown",
   "metadata": {},
   "source": [
    "#### Observations\n",
    "> The results show that standardization of the data has lifted the skill of SVM to be the most accurate algorithm tested so far.\n",
    "\n",
    "The results suggest digging deeper into the SVM and LDA and LR algorithms. It is very likely that configuration beyond the default may yield even more accurate models."
   ]
  },
  {
   "cell_type": "markdown",
   "metadata": {},
   "source": [
    "## Algorithm Tuning\n",
    "In this section we investigate tuning the parameters for three algorithms that show promise from the spot-checking in the previous section: LR, LDA and SVM.\n",
    "\n",
    "### Tuning hyper-parameters - SVC estimator"
   ]
  },
  {
   "cell_type": "code",
   "execution_count": 8,
   "metadata": {},
   "outputs": [
    {
     "name": "stdout",
     "output_type": "stream",
     "text": [
      "--> Model Training Accuracy: 0.633 +/- 0.094\n",
      "--> Tuned Parameters Best Score:  0.6533333333333333\n",
      "--> Best Parameters: \n",
      " {'clf__C': 10.0, 'clf__gamma': 0.1, 'clf__kernel': 'rbf'}\n"
     ]
    }
   ],
   "source": [
    "# turn off warnings\n",
    "import warnings\n",
    "\n",
    "def action_with_warnings():\n",
    "    warnings.warn(\"forbid warnings' display\")\n",
    "\n",
    "with warnings.catch_warnings(record=True):\n",
    "    action_with_warnings()\n",
    "\n",
    "#Make Support Vector Classifier Pipeline\n",
    "pipe_svc = Pipeline([('scl', StandardScaler()),\n",
    "                     ('pca', PCA(n_components=2)),\n",
    "                     ('clf', SVC(probability=True, verbose=False))])\n",
    "\n",
    "#Fit Pipeline to training Data\n",
    "pipe_svc.fit(X_train, y_train)\n",
    "\n",
    "#print('--> Fitted Pipeline to training Data')\n",
    "\n",
    "scores = cross_val_score(estimator=pipe_svc, X=X_train, y=y_train, cv=10, n_jobs=1, verbose=0)\n",
    "print('--> Model Training Accuracy: %.3f +/- %.3f' %(np.mean(scores), np.std(scores)))\n",
    "\n",
    "#Tune Hyperparameters\n",
    "param_range = [0.0001, 0.001, 0.01, 0.1, 1.0, 10.0, 100.0, 1000.0]\n",
    "param_grid = [{'clf__C': param_range,'clf__kernel': ['linear']},\n",
    "              {'clf__C': param_range,'clf__gamma': param_range,\n",
    "               'clf__kernel': ['rbf']}]\n",
    "gs_svc = GridSearchCV(estimator=pipe_svc,\n",
    "                  param_grid=param_grid,\n",
    "                  scoring='accuracy',\n",
    "                  cv=10,\n",
    "                  n_jobs=1)\n",
    "gs_svc = gs_svc.fit(X_train, y_train)\n",
    "print('--> Tuned Parameters Best Score: ', gs_svc.best_score_)\n",
    "print('--> Best Parameters: \\n', gs_svc.best_params_)"
   ]
  },
  {
   "cell_type": "markdown",
   "metadata": {},
   "source": [
    "### Tuning the hyper-parameters - k-NN hyperparameters\n",
    " For your standard k-NN implementation, there are two primary hyperparameters that you’ll want to tune:\n",
    "\n",
    "* The number of neighbors k.\n",
    "* The distance metric/similarity function.\n",
    "\n",
    "Both of these values can dramatically affect the accuracy of your k-NN classifier. Grid object is ready to do 10-fold cross validation on a KNN model using classification accuracy as the evaluation metric\n",
    "In addition, there is a parameter grid to repeat the 10-fold cross validation process 30 times\n",
    "Each time, the n_neighbors parameter should be given a different value from the list\n",
    "We can't give GridSearchCV just a list\n",
    "We've to specify n_neighbors should take on 1 through 30\n",
    "You can set n_jobs = -1 to run computations in parallel (if supported by your computer and OS) "
   ]
  },
  {
   "cell_type": "code",
   "execution_count": 9,
   "metadata": {},
   "outputs": [
    {
     "name": "stdout",
     "output_type": "stream",
     "text": [
      "--> Model Training Accuracy: 0.590 +/- 0.108\n",
      "--> Tuned Parameters Best Score:  0.6558730158730158\n",
      "--> Best Parameters: \n",
      " {'clf__n_neighbors': 17}\n"
     ]
    }
   ],
   "source": [
    "from sklearn.neighbors import KNeighborsClassifier as KNN\n",
    "\n",
    "pipe_knn = Pipeline([('scl', StandardScaler()),\n",
    "                     ('pca', PCA(n_components=2)),\n",
    "                     ('clf', KNeighborsClassifier())])\n",
    "            \n",
    "#Fit Pipeline to training Data\n",
    "pipe_knn.fit(X_train, y_train) \n",
    "\n",
    "scores = cross_val_score(estimator=pipe_knn, \n",
    "                         X=X_train, \n",
    "                         y=y_train, \n",
    "                         cv=10,\n",
    "                         n_jobs=1)\n",
    "print('--> Model Training Accuracy: %.3f +/- %.3f' %(np.mean(scores), np.std(scores)))\n",
    "\n",
    "#Tune Hyperparameters\n",
    "param_range = range(1, 31)\n",
    "param_grid = [{'clf__n_neighbors': param_range}]\n",
    "# instantiate the grid\n",
    "grid = GridSearchCV(estimator=pipe_knn, \n",
    "                    param_grid=param_grid, \n",
    "                    cv=10, \n",
    "                    scoring='accuracy')\n",
    "gs_knn = grid.fit(X_train, y_train)\n",
    "print('--> Tuned Parameters Best Score: ', gs_knn.best_score_)\n",
    "print('--> Best Parameters: \\n', gs_knn.best_params_)"
   ]
  },
  {
   "cell_type": "markdown",
   "metadata": {},
   "source": [
    "## Finalize Model"
   ]
  },
  {
   "cell_type": "code",
   "execution_count": 10,
   "metadata": {},
   "outputs": [
    {
     "name": "stdout",
     "output_type": "stream",
     "text": [
      "--> Final Model Training Accuracy: 0.656 +/- 0.097\n",
      "--> Final Accuracy on Test set: 0.53947\n"
     ]
    }
   ],
   "source": [
    "#Use best parameters\n",
    "clf_svc = gs_knn.best_estimator_\n",
    "\n",
    "#Get Final Scores\n",
    "clf_svc.fit(X_train, y_train)\n",
    "scores = cross_val_score(estimator=clf_svc,\n",
    "                         X=X_train,\n",
    "                         y=y_train,\n",
    "                         cv=10,\n",
    "                         n_jobs=1)\n",
    "print('--> Final Model Training Accuracy: %.3f +/- %.3f' %(np.mean(scores), np.std(scores)))\n",
    "\n",
    "print('--> Final Accuracy on Test set: %.5f' % clf_svc.score(X_test,y_test))\n"
   ]
  },
  {
   "cell_type": "code",
   "execution_count": 11,
   "metadata": {},
   "outputs": [
    {
     "name": "stdout",
     "output_type": "stream",
     "text": [
      "0.5394736842105263\n",
      "[[40 46]\n",
      " [24 42]]\n",
      "              precision    recall  f1-score   support\n",
      "\n",
      "         CRC       0.62      0.47      0.53        86\n",
      "     healthy       0.48      0.64      0.55        66\n",
      "\n",
      "    accuracy                           0.54       152\n",
      "   macro avg       0.55      0.55      0.54       152\n",
      "weighted avg       0.56      0.54      0.54       152\n",
      "\n"
     ]
    }
   ],
   "source": [
    "clf_svc.fit(X_train, y_train)\n",
    "y_pred = clf_svc.predict(X_test)\n",
    "\n",
    "print(accuracy_score(y_test, y_pred))\n",
    "print(confusion_matrix(y_test, y_pred))\n",
    "print(classification_report(y_test, y_pred))"
   ]
  },
  {
   "cell_type": "markdown",
   "metadata": {},
   "source": [
    "## Summary\n",
    "\n",
    "Worked through a classification predictive modeling machine learning problem from end-to-end using Python. Specifically, the steps covered were:\n",
    "1. Problem Definition.\n",
    "2. Loading the Dataset.\n",
    "3. Analyze Data (same scale but different distributions of data).\n",
    "    * Evaluate Algorithms (KNN looked good).\n",
    "    * Evaluate Algorithms with Standardization (KNN and SVM looked good).\n",
    "4. Algorithm Tuning (K=19 for KNN was good, SVM with an RBF kernel and C=100 was best).. \n",
    "5. Finalize Model (use all training data and confirm using validation dataset)"
   ]
  },
  {
   "cell_type": "markdown",
   "metadata": {},
   "source": [
    "## Reference\n",
    "\n",
    "* [Breast-cancer-risk-prediction](https://github.com/Jean-njoroge/Breast-cancer-risk-prediction)"
   ]
  }
 ],
 "metadata": {
  "anaconda-cloud": {},
  "kernelspec": {
   "display_name": "Python 3.9.12 ('base')",
   "language": "python",
   "name": "python3"
  },
  "language_info": {
   "codemirror_mode": {
    "name": "ipython",
    "version": 3
   },
   "file_extension": ".py",
   "mimetype": "text/x-python",
   "name": "python",
   "nbconvert_exporter": "python",
   "pygments_lexer": "ipython3",
   "version": "3.9.13"
  },
  "nbpresent": {
   "slides": {
    "24b4c65f-bb0a-40e5-82d1-e7a32fd7cb81": {
     "id": "24b4c65f-bb0a-40e5-82d1-e7a32fd7cb81",
     "prev": "c916bff9-01b0-4f88-8dfe-48366cbcebbd",
     "regions": {
      "96cec8ec-f802-4388-92b6-3575ae6d35fc": {
       "attrs": {
        "height": 0.8,
        "width": 0.8,
        "x": 0.1,
        "y": 0.1
       },
       "content": {
        "cell": "57b6e52c-2e81-423d-9902-e57a54fadab3",
        "part": "whole"
       },
       "id": "96cec8ec-f802-4388-92b6-3575ae6d35fc"
      }
     }
    },
    "3fe8f6e5-8355-49bd-8b72-54cc03842fdd": {
     "id": "3fe8f6e5-8355-49bd-8b72-54cc03842fdd",
     "prev": "24b4c65f-bb0a-40e5-82d1-e7a32fd7cb81",
     "regions": {
      "15ef1e17-3829-4deb-a95f-49af770554e4": {
       "attrs": {
        "height": 0.4,
        "width": 0.8,
        "x": 0.1,
        "y": 0.5
       },
       "content": {
        "cell": "7c2600b8-f656-4a31-8fff-826146198290",
        "part": "whole"
       },
       "id": "15ef1e17-3829-4deb-a95f-49af770554e4"
      },
      "26043033-eeee-4f5f-9f64-94e8af33b4ad": {
       "attrs": {
        "height": 0.4,
        "width": 0.8,
        "x": 0.1,
        "y": 0.5
       },
       "content": {
        "cell": "7b8e7745-abd5-4313-b1d9-a571faf34d6f",
        "part": "whole"
       },
       "id": "26043033-eeee-4f5f-9f64-94e8af33b4ad"
      },
      "32421559-c70d-4046-9ffb-e3fe7750d949": {
       "attrs": {
        "height": 0.4,
        "width": 0.8,
        "x": 0.1,
        "y": 0.5
       },
       "content": {
        "cell": "a1cd24b6-d66a-4452-a9b6-1feecc23ef3b",
        "part": "whole"
       },
       "id": "32421559-c70d-4046-9ffb-e3fe7750d949"
      },
      "6b5e1491-f4a8-4cb5-8a9a-653689ecf24f": {
       "attrs": {
        "height": 0.4,
        "width": 0.8,
        "x": 0.1,
        "y": 0.5
       },
       "content": {
        "cell": "2db6cf7b-a8d0-4f65-b9ba-f833f21849fd",
        "part": "whole"
       },
       "id": "6b5e1491-f4a8-4cb5-8a9a-653689ecf24f"
      },
      "82991730-4d08-4637-8391-26e15b890186": {
       "attrs": {
        "height": 0.8,
        "width": 0.8,
        "x": 0.1,
        "y": 0.1
       },
       "content": {
        "cell": "226eb66f-3bbc-4911-ae3e-3a7953db372a",
        "part": "whole"
       },
       "id": "82991730-4d08-4637-8391-26e15b890186"
      },
      "9c7c33ce-2582-4e10-a1b8-c334961967b6": {
       "attrs": {
        "height": 0.4,
        "width": 0.8,
        "x": 0.1,
        "y": 0.5
       },
       "content": {
        "cell": "aaff86c0-1ec6-4fda-bdc5-6f1fad2d1bed",
        "part": "whole"
       },
       "id": "9c7c33ce-2582-4e10-a1b8-c334961967b6"
      },
      "b852c892-5a54-4981-94b4-335b73256228": {
       "attrs": {
        "height": 0.4,
        "width": 0.8,
        "x": 0.1,
        "y": 0.5
       },
       "content": {
        "cell": "9e64f8b8-8d22-4b11-b893-21e18aca1896",
        "part": "whole"
       },
       "id": "b852c892-5a54-4981-94b4-335b73256228"
      },
      "bc2c634a-7f01-458a-875d-f2d9490c5d7f": {
       "attrs": {
        "height": 0.4,
        "width": 0.8,
        "x": 0.1,
        "y": 0.5
       },
       "content": {
        "cell": "d5d5f892-f456-4167-beca-f90a955c41b8",
        "part": "whole"
       },
       "id": "bc2c634a-7f01-458a-875d-f2d9490c5d7f"
      },
      "bee14e73-b23f-4351-949d-127e5e7725a1": {
       "attrs": {
        "height": 0.4,
        "width": 0.8,
        "x": 0.1,
        "y": 0.5
       },
       "content": {
        "cell": "f57a9cbe-11fb-48ec-b081-046da330c180",
        "part": "whole"
       },
       "id": "bee14e73-b23f-4351-949d-127e5e7725a1"
      },
      "c15582a0-2c07-4410-b1b3-8f6941367456": {
       "attrs": {
        "height": 0.4,
        "width": 0.8,
        "x": 0.1,
        "y": 0.5
       },
       "content": {
        "cell": "8b6fc11b-bdf0-4429-858b-594d9d08ffe8",
        "part": "whole"
       },
       "id": "c15582a0-2c07-4410-b1b3-8f6941367456"
      },
      "cbd8001c-ce07-4722-aed4-db80545c6aad": {
       "attrs": {
        "height": 0.4,
        "width": 0.8,
        "x": 0.1,
        "y": 0.5
       },
       "content": {
        "cell": "b6901fc4-1011-4b0b-a585-b408c98dccc5",
        "part": "whole"
       },
       "id": "cbd8001c-ce07-4722-aed4-db80545c6aad"
      },
      "d174d0a5-e24c-47a2-bcb3-12b795cd4d34": {
       "attrs": {
        "height": 0.4,
        "width": 0.8,
        "x": 0.1,
        "y": 0.5
       },
       "content": {
        "cell": "13a04041-12c5-40d9-aa3e-3c31b7c6700f",
        "part": "whole"
       },
       "id": "d174d0a5-e24c-47a2-bcb3-12b795cd4d34"
      },
      "f979a251-a052-4653-8dc4-76989d6d5564": {
       "attrs": {
        "height": 0.4,
        "width": 0.8,
        "x": 0.1,
        "y": 0.5
       },
       "content": {
        "cell": "4d43cfde-2f01-48e6-ae90-86aa87ed0658",
        "part": "whole"
       },
       "id": "f979a251-a052-4653-8dc4-76989d6d5564"
      },
      "fc37e2ef-dace-4e14-bd2c-d2f1720fb59b": {
       "attrs": {
        "height": 0.4,
        "width": 0.8,
        "x": 0.1,
        "y": 0.5
       },
       "content": {
        "cell": "f5fca3f9-acc2-4cba-9ceb-3eb63d0c6336",
        "part": "whole"
       },
       "id": "fc37e2ef-dace-4e14-bd2c-d2f1720fb59b"
      }
     }
    },
    "c916bff9-01b0-4f88-8dfe-48366cbcebbd": {
     "id": "c916bff9-01b0-4f88-8dfe-48366cbcebbd",
     "prev": null,
     "regions": {
      "b30819be-7928-4220-b15f-b3ca846f4850": {
       "attrs": {
        "height": 0.8,
        "width": 0.8,
        "x": 0.1,
        "y": 0.1
       },
       "content": {
        "cell": "b1daa992-4a28-496f-b325-6e8be1a7844c",
        "part": "whole"
       },
       "id": "b30819be-7928-4220-b15f-b3ca846f4850"
      }
     }
    }
   },
   "themes": {}
  },
  "vscode": {
   "interpreter": {
    "hash": "0ec017f2708b93ad90d641b3135f4132278030d3f63842d53608a2729796a5d1"
   }
  }
 },
 "nbformat": 4,
 "nbformat_minor": 4
}
